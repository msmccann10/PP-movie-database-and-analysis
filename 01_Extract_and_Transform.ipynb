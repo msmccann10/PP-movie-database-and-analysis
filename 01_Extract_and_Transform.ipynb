{
 "cells": [
  {
   "cell_type": "markdown",
   "id": "b730cc28",
   "metadata": {},
   "source": [
    "# Extract and Transform\n",
    "**Author:** Michael McCann<br>\n",
    "**Last Update:** 29 MAY 2020\n",
    "\n",
    "<u>Overview:</u> <br>\n",
    "I have been asked to create a movie database using MySQL from the [Internet Movie Database's (IMDB)](https://www.imdb.com)  publicly available dataset supplemented with financial data extracted from [The Movie Database (TMDB)](https://www.themoviedb.org/) utilizing their API. The movie database created in this step will be later utilized for hypothesis testing and regression modeling. \n",
    "\n",
    "\n",
    "<u>Tasks:</u><br> \n",
    "- Extract IMDB dataset from their website (see reference below)\n",
    "- Extract TMDB financial data using their API (see reference below)\n",
    "- Inspect, clean, and transform datasets for database creation.\n",
    "- save cleaned datasets for future use.\n",
    "- Initial EDA\n",
    "\n",
    "\n",
    "<u>References:</u><br>\n",
    "- IMDB Data: https://datasets.imdbws.com <br>\n",
    "- IMDB Data Dictionary: https://www.imdb.com/interfaces/ <br>\n",
    "- TMDB API: https://developers.themoviedb.org/4/getting-started/authorization <br>\n",
    "- TMDP API Package: https://github.com/celiao/tmdbsimple\n",
    "\n"
   ]
  },
  {
   "cell_type": "markdown",
   "id": "cd89595d",
   "metadata": {},
   "source": [
    "## Imports"
   ]
  },
  {
   "cell_type": "code",
   "execution_count": 1,
   "id": "472a9c4f",
   "metadata": {},
   "outputs": [],
   "source": [
    "import pandas as pd\n",
    "import numpy as np\n",
    "import matplotlib.pyplot as plt\n",
    "import seaborn as sns\n",
    "import json, os, math, time\n",
    "\n",
    "import tmdbsimple as tmdb\n",
    "from tqdm.notebook import tqdm_notebook"
   ]
  },
  {
   "cell_type": "markdown",
   "id": "cfcead06",
   "metadata": {},
   "source": [
    "## Functions"
   ]
  },
  {
   "cell_type": "markdown",
   "id": "259ec857",
   "metadata": {},
   "source": [
    "### Movie Ratings Function"
   ]
  },
  {
   "cell_type": "code",
   "execution_count": 2,
   "id": "b2b36970",
   "metadata": {},
   "outputs": [],
   "source": [
    "def movie_rating(movie_id):\n",
    "    movie = tmdb.Movies(movie_id)\n",
    "    info = movie.info()\n",
    "    releases = movie.releases()\n",
    "        \n",
    "    for c in releases['countries']:\n",
    "        if c['iso_3166_1'] == 'US':\n",
    "            info['certification'] = c['certification']\n",
    "    return info"
   ]
  },
  {
   "cell_type": "markdown",
   "id": "70271d0c",
   "metadata": {},
   "source": [
    "### Write JSON function"
   ]
  },
  {
   "cell_type": "code",
   "execution_count": 3,
   "id": "21238d31",
   "metadata": {},
   "outputs": [],
   "source": [
    "def write_json(new_data, filename): \n",
    "    with open(filename,'r+') as file:\n",
    "    # First we load existing data into a dict.\n",
    "        file_data = json.load(file)\n",
    "        ## Choose extend or append\n",
    "        if (type(new_data) == list) & (type(file_data) == list):\n",
    "            file_data.extend(new_data)\n",
    "        else:\n",
    "             file_data.append(new_data)\n",
    "        # Sets file's current position at offset.\n",
    "        file.seek(0)\n",
    "        # convert back to json.\n",
    "        json.dump(file_data, file)"
   ]
  },
  {
   "cell_type": "markdown",
   "id": "c020ebec",
   "metadata": {},
   "source": [
    "# EXTRACT - IMDB Dataset"
   ]
  },
  {
   "cell_type": "markdown",
   "id": "e65cd0a3",
   "metadata": {},
   "source": [
    "## Data"
   ]
  },
  {
   "cell_type": "markdown",
   "id": "2e43af15",
   "metadata": {},
   "source": [
    "### Extract Raw Data\n",
    "Save to data folder in repository\n",
    "Code here for reference but not needed going forward..."
   ]
  },
  {
   "cell_type": "code",
   "execution_count": 4,
   "id": "d09e471b",
   "metadata": {},
   "outputs": [
    {
     "data": {
      "text/plain": [
       "['bls_dollar_value.csv',\n",
       " 'final_tmdb_data_2000.csv.gz',\n",
       " 'final_tmdb_data_2001.csv.gz',\n",
       " 'final_tmdb_data_2002.csv.gz',\n",
       " 'final_tmdb_data_2003.csv.gz',\n",
       " 'final_tmdb_data_2004.csv.gz',\n",
       " 'final_tmdb_data_2005.csv.gz',\n",
       " 'final_tmdb_data_2006.csv.gz',\n",
       " 'final_tmdb_data_2007.csv.gz',\n",
       " 'final_tmdb_data_2008.csv.gz',\n",
       " 'final_tmdb_data_2009.csv.gz',\n",
       " 'final_tmdb_data_2010.csv.gz',\n",
       " 'final_tmdb_data_2011.csv.gz',\n",
       " 'final_tmdb_data_2012.csv.gz',\n",
       " 'final_tmdb_data_2013.csv.gz',\n",
       " 'final_tmdb_data_2014.csv.gz',\n",
       " 'final_tmdb_data_2015.csv.gz',\n",
       " 'final_tmdb_data_2016.csv.gz',\n",
       " 'final_tmdb_data_2017.csv.gz',\n",
       " 'final_tmdb_data_2018.csv.gz',\n",
       " 'final_tmdb_data_2019.csv.gz',\n",
       " 'final_tmdb_data_2020.csv.gz',\n",
       " 'final_tmdb_data_2021.csv.gz',\n",
       " 'title_akas.csv.gz',\n",
       " 'title_akas_raw.csv.gz',\n",
       " 'title_basics.csv.gz',\n",
       " 'title_basics_raw.csv.gz',\n",
       " 'title_ratings.csv.gz',\n",
       " 'title_ratings_raw.csv.gz',\n",
       " 'tmdb_merged.csv.gz']"
      ]
     },
     "execution_count": 4,
     "metadata": {},
     "output_type": "execute_result"
    }
   ],
   "source": [
    "## Create Folder in repo for data storage\n",
    "FOLDER = \"Data/\"\n",
    "\n",
    "os.makedirs(FOLDER, exist_ok=True)\n",
    "os.listdir(FOLDER)"
   ]
  },
  {
   "cell_type": "code",
   "execution_count": 5,
   "id": "e2540786",
   "metadata": {},
   "outputs": [],
   "source": [
    "## Filepaths\n",
    "# basics_url = 'https://datasets.imdbws.com/title.basics.tsv.gz'\n",
    "# akas_url = 'https://datasets.imdbws.com/title.akas.tsv.gz'\n",
    "# ratings_url = 'https://datasets.imdbws.com/title.ratings.tsv.gz'\n",
    "\n",
    "## Read in Dataframe\n",
    "# basics = pd.read_csv(basics_url, sep='\\t', low_memory = False)\n",
    "# akas = pd.read_csv(akas_url, sep='\\t', low_memory = False)\n",
    "# ratings = pd.read_csv(ratings_url, sep='\\t', low_memory = False)"
   ]
  },
  {
   "cell_type": "markdown",
   "id": "5e467d29",
   "metadata": {},
   "source": [
    "### Save for Local Use"
   ]
  },
  {
   "cell_type": "code",
   "execution_count": 6,
   "id": "d2e990b2",
   "metadata": {},
   "outputs": [],
   "source": [
    "## Save locally for future use\n",
    "# basics.to_csv(f\"{FOLDER}title_basics_raw.csv.gz\",compression='gzip',index=False)\n",
    "# akas.to_csv(f\"{FOLDER}title_akas_raw.csv.gz\",compression='gzip',index=False)\n",
    "# ratings.to_csv(f\"{FOLDER}title_ratings_raw.csv.gz\",compression='gzip',index=False)"
   ]
  },
  {
   "cell_type": "markdown",
   "id": "11e408f5",
   "metadata": {},
   "source": [
    "### Load for Use"
   ]
  },
  {
   "cell_type": "code",
   "execution_count": 7,
   "id": "4b94b0b7",
   "metadata": {},
   "outputs": [],
   "source": [
    "basics = pd.read_csv(f\"{FOLDER}title_basics_raw.csv.gz\", low_memory = False)\n",
    "akas = pd.read_csv(f\"{FOLDER}title_akas_raw.csv.gz\", low_memory = False)\n",
    "ratings = pd.read_csv(f\"{FOLDER}title_ratings_raw.csv.gz\", low_memory = False)"
   ]
  },
  {
   "cell_type": "markdown",
   "id": "55a27827",
   "metadata": {},
   "source": [
    "# TRANSFORM - IMDB DATA"
   ]
  },
  {
   "cell_type": "markdown",
   "id": "2e3f148e",
   "metadata": {},
   "source": [
    "## Cleaning"
   ]
  },
  {
   "cell_type": "code",
   "execution_count": 8,
   "id": "754a59ef",
   "metadata": {
    "scrolled": true
   },
   "outputs": [
    {
     "name": "stdout",
     "output_type": "stream",
     "text": [
      "Ratings DF\n"
     ]
    },
    {
     "data": {
      "text/html": [
       "<div>\n",
       "<style scoped>\n",
       "    .dataframe tbody tr th:only-of-type {\n",
       "        vertical-align: middle;\n",
       "    }\n",
       "\n",
       "    .dataframe tbody tr th {\n",
       "        vertical-align: top;\n",
       "    }\n",
       "\n",
       "    .dataframe thead th {\n",
       "        text-align: right;\n",
       "    }\n",
       "</style>\n",
       "<table border=\"1\" class=\"dataframe\">\n",
       "  <thead>\n",
       "    <tr style=\"text-align: right;\">\n",
       "      <th></th>\n",
       "      <th>tconst</th>\n",
       "      <th>averageRating</th>\n",
       "      <th>numVotes</th>\n",
       "    </tr>\n",
       "  </thead>\n",
       "  <tbody>\n",
       "    <tr>\n",
       "      <th>0</th>\n",
       "      <td>tt0000001</td>\n",
       "      <td>5.7</td>\n",
       "      <td>1882</td>\n",
       "    </tr>\n",
       "    <tr>\n",
       "      <th>1</th>\n",
       "      <td>tt0000002</td>\n",
       "      <td>5.9</td>\n",
       "      <td>250</td>\n",
       "    </tr>\n",
       "  </tbody>\n",
       "</table>\n",
       "</div>"
      ],
      "text/plain": [
       "      tconst  averageRating  numVotes\n",
       "0  tt0000001            5.7      1882\n",
       "1  tt0000002            5.9       250"
      ]
     },
     "metadata": {},
     "output_type": "display_data"
    },
    {
     "name": "stdout",
     "output_type": "stream",
     "text": [
      "<class 'pandas.core.frame.DataFrame'>\n",
      "RangeIndex: 1247686 entries, 0 to 1247685\n",
      "Data columns (total 3 columns):\n",
      " #   Column         Non-Null Count    Dtype  \n",
      "---  ------         --------------    -----  \n",
      " 0   tconst         1247686 non-null  object \n",
      " 1   averageRating  1247686 non-null  float64\n",
      " 2   numVotes       1247686 non-null  int64  \n",
      "dtypes: float64(1), int64(1), object(1)\n",
      "memory usage: 28.6+ MB\n",
      "\n",
      "\n",
      " AKAs DF\n"
     ]
    },
    {
     "data": {
      "text/html": [
       "<div>\n",
       "<style scoped>\n",
       "    .dataframe tbody tr th:only-of-type {\n",
       "        vertical-align: middle;\n",
       "    }\n",
       "\n",
       "    .dataframe tbody tr th {\n",
       "        vertical-align: top;\n",
       "    }\n",
       "\n",
       "    .dataframe thead th {\n",
       "        text-align: right;\n",
       "    }\n",
       "</style>\n",
       "<table border=\"1\" class=\"dataframe\">\n",
       "  <thead>\n",
       "    <tr style=\"text-align: right;\">\n",
       "      <th></th>\n",
       "      <th>titleId</th>\n",
       "      <th>ordering</th>\n",
       "      <th>title</th>\n",
       "      <th>region</th>\n",
       "      <th>language</th>\n",
       "      <th>types</th>\n",
       "      <th>attributes</th>\n",
       "      <th>isOriginalTitle</th>\n",
       "    </tr>\n",
       "  </thead>\n",
       "  <tbody>\n",
       "    <tr>\n",
       "      <th>0</th>\n",
       "      <td>tt0000001</td>\n",
       "      <td>1</td>\n",
       "      <td>Карменсіта</td>\n",
       "      <td>UA</td>\n",
       "      <td>\\N</td>\n",
       "      <td>imdbDisplay</td>\n",
       "      <td>\\N</td>\n",
       "      <td>0</td>\n",
       "    </tr>\n",
       "    <tr>\n",
       "      <th>1</th>\n",
       "      <td>tt0000001</td>\n",
       "      <td>2</td>\n",
       "      <td>Carmencita</td>\n",
       "      <td>DE</td>\n",
       "      <td>\\N</td>\n",
       "      <td>\\N</td>\n",
       "      <td>literal title</td>\n",
       "      <td>0</td>\n",
       "    </tr>\n",
       "  </tbody>\n",
       "</table>\n",
       "</div>"
      ],
      "text/plain": [
       "     titleId  ordering       title region language        types  \\\n",
       "0  tt0000001         1  Карменсіта     UA       \\N  imdbDisplay   \n",
       "1  tt0000001         2  Carmencita     DE       \\N           \\N   \n",
       "\n",
       "      attributes isOriginalTitle  \n",
       "0             \\N               0  \n",
       "1  literal title               0  "
      ]
     },
     "metadata": {},
     "output_type": "display_data"
    },
    {
     "name": "stdout",
     "output_type": "stream",
     "text": [
      "<class 'pandas.core.frame.DataFrame'>\n",
      "RangeIndex: 32112547 entries, 0 to 32112546\n",
      "Data columns (total 8 columns):\n",
      " #   Column           Dtype \n",
      "---  ------           ----- \n",
      " 0   titleId          object\n",
      " 1   ordering         int64 \n",
      " 2   title            object\n",
      " 3   region           object\n",
      " 4   language         object\n",
      " 5   types            object\n",
      " 6   attributes       object\n",
      " 7   isOriginalTitle  object\n",
      "dtypes: int64(1), object(7)\n",
      "memory usage: 1.9+ GB\n",
      "\n",
      "\n",
      " Basics DF\n"
     ]
    },
    {
     "data": {
      "text/html": [
       "<div>\n",
       "<style scoped>\n",
       "    .dataframe tbody tr th:only-of-type {\n",
       "        vertical-align: middle;\n",
       "    }\n",
       "\n",
       "    .dataframe tbody tr th {\n",
       "        vertical-align: top;\n",
       "    }\n",
       "\n",
       "    .dataframe thead th {\n",
       "        text-align: right;\n",
       "    }\n",
       "</style>\n",
       "<table border=\"1\" class=\"dataframe\">\n",
       "  <thead>\n",
       "    <tr style=\"text-align: right;\">\n",
       "      <th></th>\n",
       "      <th>tconst</th>\n",
       "      <th>titleType</th>\n",
       "      <th>primaryTitle</th>\n",
       "      <th>originalTitle</th>\n",
       "      <th>isAdult</th>\n",
       "      <th>startYear</th>\n",
       "      <th>endYear</th>\n",
       "      <th>runtimeMinutes</th>\n",
       "      <th>genres</th>\n",
       "    </tr>\n",
       "  </thead>\n",
       "  <tbody>\n",
       "    <tr>\n",
       "      <th>0</th>\n",
       "      <td>tt0000001</td>\n",
       "      <td>short</td>\n",
       "      <td>Carmencita</td>\n",
       "      <td>Carmencita</td>\n",
       "      <td>0</td>\n",
       "      <td>1894</td>\n",
       "      <td>\\N</td>\n",
       "      <td>1</td>\n",
       "      <td>Documentary,Short</td>\n",
       "    </tr>\n",
       "    <tr>\n",
       "      <th>1</th>\n",
       "      <td>tt0000002</td>\n",
       "      <td>short</td>\n",
       "      <td>Le clown et ses chiens</td>\n",
       "      <td>Le clown et ses chiens</td>\n",
       "      <td>0</td>\n",
       "      <td>1892</td>\n",
       "      <td>\\N</td>\n",
       "      <td>5</td>\n",
       "      <td>Animation,Short</td>\n",
       "    </tr>\n",
       "  </tbody>\n",
       "</table>\n",
       "</div>"
      ],
      "text/plain": [
       "      tconst titleType            primaryTitle           originalTitle  \\\n",
       "0  tt0000001     short              Carmencita              Carmencita   \n",
       "1  tt0000002     short  Le clown et ses chiens  Le clown et ses chiens   \n",
       "\n",
       "  isAdult startYear endYear runtimeMinutes             genres  \n",
       "0       0      1894      \\N              1  Documentary,Short  \n",
       "1       0      1892      \\N              5    Animation,Short  "
      ]
     },
     "metadata": {},
     "output_type": "display_data"
    },
    {
     "name": "stdout",
     "output_type": "stream",
     "text": [
      "<class 'pandas.core.frame.DataFrame'>\n",
      "RangeIndex: 8950519 entries, 0 to 8950518\n",
      "Data columns (total 9 columns):\n",
      " #   Column          Dtype \n",
      "---  ------          ----- \n",
      " 0   tconst          object\n",
      " 1   titleType       object\n",
      " 2   primaryTitle    object\n",
      " 3   originalTitle   object\n",
      " 4   isAdult         object\n",
      " 5   startYear       object\n",
      " 6   endYear         object\n",
      " 7   runtimeMinutes  object\n",
      " 8   genres          object\n",
      "dtypes: object(9)\n",
      "memory usage: 614.6+ MB\n"
     ]
    }
   ],
   "source": [
    "print('Ratings DF')\n",
    "display(ratings.head(2))\n",
    "ratings.info()\n",
    "\n",
    "print('\\n\\n AKAs DF')\n",
    "display(akas.head(2))\n",
    "akas.info()\n",
    "\n",
    "print('\\n\\n Basics DF')\n",
    "display(basics.head(2))\n",
    "basics.info()"
   ]
  },
  {
   "cell_type": "code",
   "execution_count": 9,
   "id": "2d12bfd5",
   "metadata": {},
   "outputs": [],
   "source": [
    "# IMDB Database uses '\\n' instead of NaN. Replace '\\n' with NaN\n",
    "ratings = ratings.replace({'\\\\N':np.nan})\n",
    "akas = akas.replace({'\\\\N':np.nan})\n",
    "basics = basics.replace({'\\\\N':np.nan})"
   ]
  },
  {
   "cell_type": "code",
   "execution_count": 10,
   "id": "fb36bf0b",
   "metadata": {},
   "outputs": [
    {
     "name": "stdout",
     "output_type": "stream",
     "text": [
      "primaryTitle NAs: 11\n",
      "runtimeMinutes NAs: 6543395\n",
      "genres NAs: 408566\n"
     ]
    }
   ],
   "source": [
    "# Check for NA's in columns we care about for our analysis..\n",
    "NAcheck = ['primaryTitle', 'runtimeMinutes', 'genres']\n",
    "\n",
    "for i in NAcheck:\n",
    "    print(f\"{i} NAs: {basics[i].isna().sum().sum()}\")"
   ]
  },
  {
   "cell_type": "code",
   "execution_count": 11,
   "id": "fa6af314",
   "metadata": {},
   "outputs": [],
   "source": [
    "# Remove NAs from Genre, Runtime, and Title\n",
    "genre_notna = basics['genres'].notna() #drop rows from genre w NaN\n",
    "runtime_notna = basics['runtimeMinutes'].notna() #drop rows from runtime w NaN\n",
    "title_notna = basics['primaryTitle'].notna() #drop rows from title w NaN\n",
    "\n",
    "basics = basics[genre_notna & runtime_notna & title_notna]"
   ]
  },
  {
   "cell_type": "markdown",
   "id": "e5346bf2",
   "metadata": {},
   "source": [
    "## Feature Selection\n",
    "Based on our customer feedback we are looking for movies released in the US between 2000 and 2021. \n",
    "\n",
    "Filter columns/features for use in this project:<br>\n",
    "- Region = US\n",
    "- type = movie \n",
    "- release year = between 2000 and 2021\n",
    "- genre != documentary\n"
   ]
  },
  {
   "cell_type": "code",
   "execution_count": 12,
   "id": "dfc85545",
   "metadata": {},
   "outputs": [],
   "source": [
    "## The region column in AKAs is where we can select for US.\n",
    "akas = akas[akas['region'] == 'US']\n",
    "\n",
    "## Filter movies in basics based on new AKAs DF using isin on tconst\n",
    "USmovie =basics['tconst'].isin(akas['titleId'])\n",
    "basics = basics[USmovie]"
   ]
  },
  {
   "cell_type": "code",
   "execution_count": 13,
   "id": "b4f9dce0",
   "metadata": {},
   "outputs": [],
   "source": [
    "# Filter for movie type and date range\n",
    "type_movie = basics['titleType'] == 'movie' # select movie type\n",
    "after2000 = basics['startYear'] >= '2000' # select years after 2000\n",
    "before2022 = basics['startYear'] <= '2021'# select years before 2022\n",
    "\n",
    "basics = basics[type_movie & after2000 & before2022]"
   ]
  },
  {
   "cell_type": "code",
   "execution_count": 14,
   "id": "5816f4c0",
   "metadata": {},
   "outputs": [],
   "source": [
    "# Remove ducementaries from our data\n",
    "is_documentary = basics['genres'].str.contains('documentary',case=False)\n",
    "basics = basics[~is_documentary]"
   ]
  },
  {
   "cell_type": "markdown",
   "id": "b69c4504",
   "metadata": {},
   "source": [
    "Eliminate extra/duplicative columns that are not needed for this project:\n",
    "- 'originalTitle': duplicative with the actual title.\n",
    "- 'titleType': after filtering all titles should be movies. This column is no longer necessary.\n",
    "- 'isAdult': This information is captured in the genre column.\n",
    "- 'startYear' and 'endYear' are captured with additional detail (day/month) in the TMDB data and can be dropped from this DF."
   ]
  },
  {
   "cell_type": "code",
   "execution_count": 15,
   "id": "9d1ef444",
   "metadata": {},
   "outputs": [],
   "source": [
    "# Clean extra columns (and repeat genre columns) from basics\n",
    "extra = ['originalTitle', 'titleType', 'isAdult', 'startYear', 'endYear']\n",
    "basics = basics.drop(columns = extra)"
   ]
  },
  {
   "cell_type": "markdown",
   "id": "f90aa9b5",
   "metadata": {},
   "source": [
    "# EXTRACT - TMDB API PULL"
   ]
  },
  {
   "cell_type": "markdown",
   "id": "1ec3a17f",
   "metadata": {},
   "source": [
    "## Get API Key"
   ]
  },
  {
   "cell_type": "code",
   "execution_count": 16,
   "id": "54e395a5",
   "metadata": {},
   "outputs": [],
   "source": [
    "# Get filepath for keys\n",
    "file = \"../../.secret/tmdb_api.json\"\n",
    "\n",
    "# load keys as login\n",
    "with open(file, 'r') as f:\n",
    "    login = json.load(f)"
   ]
  },
  {
   "cell_type": "markdown",
   "id": "87daed8f",
   "metadata": {},
   "source": [
    "## Instantiate API"
   ]
  },
  {
   "cell_type": "code",
   "execution_count": 17,
   "id": "a77bcf9f",
   "metadata": {},
   "outputs": [],
   "source": [
    "# Instantiate API\n",
    "tmdb.API_KEY = login['api-key']"
   ]
  },
  {
   "cell_type": "markdown",
   "id": "422b14cb",
   "metadata": {},
   "source": [
    "## API Call"
   ]
  },
  {
   "cell_type": "code",
   "execution_count": 18,
   "id": "68efba17",
   "metadata": {},
   "outputs": [],
   "source": [
    "## Set Years we are interested in\n",
    "YEARS_TO_GET = list(range(2000,2022))"
   ]
  },
  {
   "cell_type": "code",
   "execution_count": 19,
   "id": "8b07dade",
   "metadata": {},
   "outputs": [],
   "source": [
    "### COMMENTED OUT TO KEEP FROM ACCIDENTLY RUNNING THIS!!!! ### \n",
    "\n",
    "## API Call Function\n",
    "# for YEAR in tqdm_notebook(YEARS_TO_GET, desc='YEARS', position = 0):    \n",
    "#     JSON_FILE = f'{FOLDER}tmdb_api_requests_{YEAR}.json'\n",
    "    \n",
    "#     # Check for JSON_FILE\n",
    "#     file_exists = os.path.isfile(JSON_FILE)\n",
    "\n",
    "#     # If it does not exist create a blank one for use\n",
    "#     if file_exists == False:\n",
    "#         with open(JSON_FILE, 'w') as f:\n",
    "#             json.dump([{'imdb_id':0}],f)\n",
    "    \n",
    "#     # get movie ids ('tconst') from our IMDB basics dataframe\n",
    "#     df = basics.loc[basics['startYear'] == YEAR].copy()\n",
    "#     movie_ids = df['tconst'].copy()\n",
    "    \n",
    "#     # Check for previous pulls \n",
    "#     previous_df = pd.read_json(JSON_FILE)\n",
    "#     movie_ids_to_get = movie_ids[~movie_ids.isin(previous_df['imdb_id'])]\n",
    "    \n",
    "#     for movie_id in tqdm_notebook(movie_ids_to_get,\n",
    "#                              desc=f'Movies from {YEAR}',\n",
    "#                              position = 1,\n",
    "#                              leave = True):\n",
    "#             try:\n",
    "#                 temp = movie_rating(movie_id)\n",
    "#                 write_json(temp, JSON_FILE)\n",
    "#                 time.sleep(0.02)\n",
    "\n",
    "#             except Exception as e:\n",
    "#                     continue\n",
    "    \n",
    "#     # Save the results out to a zipped csv                \n",
    "#     final_year_df = pd.read_json(JSON_FILE)\n",
    "#     final_year_df.to_csv(f\"{FOLDER}final_tmdb_data_{YEAR}.csv.gz\", compression=\"gzip\", index=False)"
   ]
  },
  {
   "cell_type": "markdown",
   "id": "05a60e6c",
   "metadata": {},
   "source": [
    "# TRANSFORM - TMDB"
   ]
  },
  {
   "cell_type": "markdown",
   "id": "2dd38e9b",
   "metadata": {},
   "source": [
    "## Merge\n",
    "Load the results from our API call (years 2000 - 2021) and concatenate them into one DataFrame.\n",
    "\n",
    "**Note:** This section is commented out and remains for documentation purposes. After running thie script we save the merged DataFrame and delete the individual CSVs and JSON files. See below to load in the merged DF. "
   ]
  },
  {
   "cell_type": "code",
   "execution_count": 20,
   "id": "6fb70df1",
   "metadata": {},
   "outputs": [
    {
     "name": "stdout",
     "output_type": "stream",
     "text": [
      "Year 2000 added 1197 new rows to our dataframe. New Total: 1197\n",
      "-----\n",
      "Year 2001 added 1277 new rows to our dataframe. New Total: 2474\n",
      "-----\n",
      "Year 2002 added 1218 new rows to our dataframe. New Total: 3692\n",
      "-----\n",
      "Year 2003 added 1266 new rows to our dataframe. New Total: 4958\n",
      "-----\n",
      "Year 2004 added 1412 new rows to our dataframe. New Total: 6370\n",
      "-----\n",
      "Year 2005 added 1602 new rows to our dataframe. New Total: 7972\n",
      "-----\n",
      "Year 2006 added 1795 new rows to our dataframe. New Total: 9767\n",
      "-----\n",
      "Year 2007 added 1842 new rows to our dataframe. New Total: 11609\n",
      "-----\n",
      "Year 2008 added 2073 new rows to our dataframe. New Total: 13682\n",
      "-----\n",
      "Year 2009 added 2352 new rows to our dataframe. New Total: 16034\n",
      "-----\n",
      "Year 2010 added 2576 new rows to our dataframe. New Total: 18610\n",
      "-----\n",
      "Year 2011 added 2897 new rows to our dataframe. New Total: 21507\n",
      "-----\n",
      "Year 2012 added 3191 new rows to our dataframe. New Total: 24698\n",
      "-----\n",
      "Year 2013 added 3430 new rows to our dataframe. New Total: 28128\n",
      "-----\n",
      "Year 2014 added 3625 new rows to our dataframe. New Total: 31753\n",
      "-----\n",
      "Year 2015 added 3697 new rows to our dataframe. New Total: 35450\n",
      "-----\n",
      "Year 2016 added 3930 new rows to our dataframe. New Total: 39380\n",
      "-----\n",
      "Year 2017 added 4293 new rows to our dataframe. New Total: 43673\n",
      "-----\n",
      "Year 2018 added 4521 new rows to our dataframe. New Total: 48194\n",
      "-----\n",
      "Year 2019 added 4674 new rows to our dataframe. New Total: 52868\n",
      "-----\n",
      "Year 2020 added 3713 new rows to our dataframe. New Total: 56581\n",
      "-----\n",
      "Year 2021 added 3521 new rows to our dataframe. New Total: 60102\n",
      "-----\n"
     ]
    }
   ],
   "source": [
    "tmdb_merged = pd.DataFrame({})\n",
    "\n",
    "# Iterate through and merge TMDB results for 2000 to 2021.\n",
    "for YEAR in YEARS_TO_GET:\n",
    "    filepath = f\"{FOLDER}final_tmdb_data_{YEAR}.csv.gz\"\n",
    "    temp = pd.read_csv(filepath)\n",
    "    tmdb_merged = pd.concat([tmdb_merged, temp], ignore_index = True)\n",
    "    \n",
    "    print(f'Year {YEAR} added {temp.shape[0]} new rows to our dataframe. New Total: {tmdb_merged.shape[0]}')\n",
    "    print('-----')"
   ]
  },
  {
   "cell_type": "markdown",
   "id": "ae5ba620",
   "metadata": {},
   "source": [
    "## Cleaning\n",
    "Initial Cleaning prior to saving the DataFrame.\n",
    "\n",
    "**Note:** This sections have been commented out as they were done PRIOR to saving the DataFrame. "
   ]
  },
  {
   "cell_type": "code",
   "execution_count": 21,
   "id": "88d6bad9",
   "metadata": {
    "scrolled": true
   },
   "outputs": [
    {
     "data": {
      "text/html": [
       "<div>\n",
       "<style scoped>\n",
       "    .dataframe tbody tr th:only-of-type {\n",
       "        vertical-align: middle;\n",
       "    }\n",
       "\n",
       "    .dataframe tbody tr th {\n",
       "        vertical-align: top;\n",
       "    }\n",
       "\n",
       "    .dataframe thead th {\n",
       "        text-align: right;\n",
       "    }\n",
       "</style>\n",
       "<table border=\"1\" class=\"dataframe\">\n",
       "  <thead>\n",
       "    <tr style=\"text-align: right;\">\n",
       "      <th></th>\n",
       "      <th>imdb_id</th>\n",
       "      <th>adult</th>\n",
       "      <th>backdrop_path</th>\n",
       "      <th>belongs_to_collection</th>\n",
       "      <th>budget</th>\n",
       "      <th>genres</th>\n",
       "      <th>homepage</th>\n",
       "      <th>id</th>\n",
       "      <th>original_language</th>\n",
       "      <th>original_title</th>\n",
       "      <th>...</th>\n",
       "      <th>revenue</th>\n",
       "      <th>runtime</th>\n",
       "      <th>spoken_languages</th>\n",
       "      <th>status</th>\n",
       "      <th>tagline</th>\n",
       "      <th>title</th>\n",
       "      <th>video</th>\n",
       "      <th>vote_average</th>\n",
       "      <th>vote_count</th>\n",
       "      <th>certification</th>\n",
       "    </tr>\n",
       "  </thead>\n",
       "  <tbody>\n",
       "    <tr>\n",
       "      <th>0</th>\n",
       "      <td>0</td>\n",
       "      <td>NaN</td>\n",
       "      <td>NaN</td>\n",
       "      <td>NaN</td>\n",
       "      <td>NaN</td>\n",
       "      <td>NaN</td>\n",
       "      <td>NaN</td>\n",
       "      <td>NaN</td>\n",
       "      <td>NaN</td>\n",
       "      <td>NaN</td>\n",
       "      <td>...</td>\n",
       "      <td>NaN</td>\n",
       "      <td>NaN</td>\n",
       "      <td>NaN</td>\n",
       "      <td>NaN</td>\n",
       "      <td>NaN</td>\n",
       "      <td>NaN</td>\n",
       "      <td>NaN</td>\n",
       "      <td>NaN</td>\n",
       "      <td>NaN</td>\n",
       "      <td>NaN</td>\n",
       "    </tr>\n",
       "    <tr>\n",
       "      <th>1</th>\n",
       "      <td>tt0113026</td>\n",
       "      <td>0.0</td>\n",
       "      <td>/vMFs7nw6P0bIV1jDsQpxAieAVnH.jpg</td>\n",
       "      <td>NaN</td>\n",
       "      <td>10000000.0</td>\n",
       "      <td>[{'id': 35, 'name': 'Comedy'}, {'id': 10402, '...</td>\n",
       "      <td>NaN</td>\n",
       "      <td>62127.0</td>\n",
       "      <td>en</td>\n",
       "      <td>The Fantasticks</td>\n",
       "      <td>...</td>\n",
       "      <td>0.0</td>\n",
       "      <td>86.0</td>\n",
       "      <td>[{'english_name': 'English', 'iso_639_1': 'en'...</td>\n",
       "      <td>Released</td>\n",
       "      <td>Try to remember the first time magic happened</td>\n",
       "      <td>The Fantasticks</td>\n",
       "      <td>0.0</td>\n",
       "      <td>5.4</td>\n",
       "      <td>21.0</td>\n",
       "      <td>NaN</td>\n",
       "    </tr>\n",
       "  </tbody>\n",
       "</table>\n",
       "<p>2 rows × 26 columns</p>\n",
       "</div>"
      ],
      "text/plain": [
       "     imdb_id  adult                     backdrop_path belongs_to_collection  \\\n",
       "0          0    NaN                               NaN                   NaN   \n",
       "1  tt0113026    0.0  /vMFs7nw6P0bIV1jDsQpxAieAVnH.jpg                   NaN   \n",
       "\n",
       "       budget                                             genres homepage  \\\n",
       "0         NaN                                                NaN      NaN   \n",
       "1  10000000.0  [{'id': 35, 'name': 'Comedy'}, {'id': 10402, '...      NaN   \n",
       "\n",
       "        id original_language   original_title  ... revenue  runtime  \\\n",
       "0      NaN               NaN              NaN  ...     NaN      NaN   \n",
       "1  62127.0                en  The Fantasticks  ...     0.0     86.0   \n",
       "\n",
       "                                    spoken_languages    status  \\\n",
       "0                                                NaN       NaN   \n",
       "1  [{'english_name': 'English', 'iso_639_1': 'en'...  Released   \n",
       "\n",
       "                                         tagline            title  video  \\\n",
       "0                                            NaN              NaN    NaN   \n",
       "1  Try to remember the first time magic happened  The Fantasticks    0.0   \n",
       "\n",
       "   vote_average vote_count certification  \n",
       "0           NaN        NaN           NaN  \n",
       "1           5.4       21.0           NaN  \n",
       "\n",
       "[2 rows x 26 columns]"
      ]
     },
     "metadata": {},
     "output_type": "display_data"
    },
    {
     "name": "stdout",
     "output_type": "stream",
     "text": [
      "\n",
      "\n",
      "<class 'pandas.core.frame.DataFrame'>\n",
      "RangeIndex: 60102 entries, 0 to 60101\n",
      "Data columns (total 26 columns):\n",
      " #   Column                 Non-Null Count  Dtype  \n",
      "---  ------                 --------------  -----  \n",
      " 0   imdb_id                60102 non-null  object \n",
      " 1   adult                  60080 non-null  float64\n",
      " 2   backdrop_path          36964 non-null  object \n",
      " 3   belongs_to_collection  3738 non-null   object \n",
      " 4   budget                 60080 non-null  float64\n",
      " 5   genres                 60080 non-null  object \n",
      " 6   homepage               14761 non-null  object \n",
      " 7   id                     60080 non-null  float64\n",
      " 8   original_language      60080 non-null  object \n",
      " 9   original_title         60080 non-null  object \n",
      " 10  overview               58709 non-null  object \n",
      " 11  popularity             60080 non-null  float64\n",
      " 12  poster_path            54326 non-null  object \n",
      " 13  production_companies   60080 non-null  object \n",
      " 14  production_countries   60080 non-null  object \n",
      " 15  release_date           59026 non-null  object \n",
      " 16  revenue                60080 non-null  float64\n",
      " 17  runtime                59246 non-null  float64\n",
      " 18  spoken_languages       60080 non-null  object \n",
      " 19  status                 60080 non-null  object \n",
      " 20  tagline                22063 non-null  object \n",
      " 21  title                  60080 non-null  object \n",
      " 22  video                  60080 non-null  float64\n",
      " 23  vote_average           60080 non-null  float64\n",
      " 24  vote_count             60080 non-null  float64\n",
      " 25  certification          14623 non-null  object \n",
      "dtypes: float64(9), object(17)\n",
      "memory usage: 11.9+ MB\n"
     ]
    }
   ],
   "source": [
    "display(tmdb_merged.head(2))\n",
    "print('\\n')\n",
    "tmdb_merged.info()"
   ]
  },
  {
   "cell_type": "code",
   "execution_count": 22,
   "id": "f4fa1d11",
   "metadata": {},
   "outputs": [],
   "source": [
    "# # Each DF loaded in has a first column with an IMDB ID equal to zero. \n",
    "# # This is from creating the file to save the API and should be removed. \n",
    "tmdb_merged = tmdb_merged[tmdb_merged['imdb_id'] != '0']"
   ]
  },
  {
   "cell_type": "code",
   "execution_count": 23,
   "id": "485aa66d",
   "metadata": {},
   "outputs": [
    {
     "data": {
      "text/plain": [
       "array([nan, 'PG', 'R', 'G', 'NR', 'PG-13', 'NC-17', 'Unrated', '-', 'UR',\n",
       "       'Not Rated', 'ScreamFest Horror Film Festival', 'R ', 'PG-13 ',\n",
       "       '10'], dtype=object)"
      ]
     },
     "execution_count": 23,
     "metadata": {},
     "output_type": "execute_result"
    }
   ],
   "source": [
    "# # Checking the certifications as that was one of the columns we were missing.\n",
    "tmdb_merged['certification'].unique()"
   ]
  },
  {
   "cell_type": "code",
   "execution_count": 24,
   "id": "48cbcceb",
   "metadata": {},
   "outputs": [],
   "source": [
    "# # Clean up the certifications\n",
    "replace_nr = {'Unrated':'UR', 'Not Rated': 'NR', '10':'NR', '-': 'NR',\n",
    "        'ScreamFest Horror Film Festival': 'NR'} \n",
    "tmdb_merged['certification'] = tmdb_merged['certification'].str.strip()\n",
    "tmdb_merged['certification'] = tmdb_merged['certification'].replace(replace_nr)"
   ]
  },
  {
   "cell_type": "markdown",
   "id": "5e33ba80",
   "metadata": {},
   "source": [
    "## Feature Engineering"
   ]
  },
  {
   "cell_type": "markdown",
   "id": "b458dc91",
   "metadata": {},
   "source": [
    "### Collection"
   ]
  },
  {
   "cell_type": "code",
   "execution_count": 25,
   "id": "8f11d009",
   "metadata": {},
   "outputs": [],
   "source": [
    "# # Clean up the 'belongs_to_collection' column to indicate if it does/does not belong in a collection.\n",
    "tmdb_merged['belongs_to_collection'] = tmdb_merged['belongs_to_collection'].notna().astype(int)"
   ]
  },
  {
   "cell_type": "markdown",
   "id": "91fe2011",
   "metadata": {},
   "source": [
    "### Release Date\n",
    "IMDB data only listed Year. TMDB has year, month, day but it is currently combined into one column. Will need to split these into three separate columns.\n"
   ]
  },
  {
   "cell_type": "code",
   "execution_count": 26,
   "id": "997f0175",
   "metadata": {},
   "outputs": [
    {
     "data": {
      "text/html": [
       "<div>\n",
       "<style scoped>\n",
       "    .dataframe tbody tr th:only-of-type {\n",
       "        vertical-align: middle;\n",
       "    }\n",
       "\n",
       "    .dataframe tbody tr th {\n",
       "        vertical-align: top;\n",
       "    }\n",
       "\n",
       "    .dataframe thead th {\n",
       "        text-align: right;\n",
       "    }\n",
       "</style>\n",
       "<table border=\"1\" class=\"dataframe\">\n",
       "  <thead>\n",
       "    <tr style=\"text-align: right;\">\n",
       "      <th></th>\n",
       "      <th>imdb_id</th>\n",
       "      <th>adult</th>\n",
       "      <th>backdrop_path</th>\n",
       "      <th>belongs_to_collection</th>\n",
       "      <th>budget</th>\n",
       "      <th>genres</th>\n",
       "      <th>homepage</th>\n",
       "      <th>id</th>\n",
       "      <th>original_language</th>\n",
       "      <th>original_title</th>\n",
       "      <th>...</th>\n",
       "      <th>status</th>\n",
       "      <th>tagline</th>\n",
       "      <th>title</th>\n",
       "      <th>video</th>\n",
       "      <th>vote_average</th>\n",
       "      <th>vote_count</th>\n",
       "      <th>certification</th>\n",
       "      <th>year</th>\n",
       "      <th>month</th>\n",
       "      <th>day</th>\n",
       "    </tr>\n",
       "  </thead>\n",
       "  <tbody>\n",
       "    <tr>\n",
       "      <th>1</th>\n",
       "      <td>tt0113026</td>\n",
       "      <td>0.0</td>\n",
       "      <td>/vMFs7nw6P0bIV1jDsQpxAieAVnH.jpg</td>\n",
       "      <td>0</td>\n",
       "      <td>10000000.0</td>\n",
       "      <td>[{'id': 35, 'name': 'Comedy'}, {'id': 10402, '...</td>\n",
       "      <td>NaN</td>\n",
       "      <td>62127.0</td>\n",
       "      <td>en</td>\n",
       "      <td>The Fantasticks</td>\n",
       "      <td>...</td>\n",
       "      <td>Released</td>\n",
       "      <td>Try to remember the first time magic happened</td>\n",
       "      <td>The Fantasticks</td>\n",
       "      <td>0.0</td>\n",
       "      <td>5.4</td>\n",
       "      <td>21.0</td>\n",
       "      <td>NaN</td>\n",
       "      <td>2000</td>\n",
       "      <td>9</td>\n",
       "      <td>22</td>\n",
       "    </tr>\n",
       "    <tr>\n",
       "      <th>2</th>\n",
       "      <td>tt0113092</td>\n",
       "      <td>0.0</td>\n",
       "      <td>NaN</td>\n",
       "      <td>0</td>\n",
       "      <td>0.0</td>\n",
       "      <td>[{'id': 878, 'name': 'Science Fiction'}]</td>\n",
       "      <td>NaN</td>\n",
       "      <td>110977.0</td>\n",
       "      <td>en</td>\n",
       "      <td>For the Cause</td>\n",
       "      <td>...</td>\n",
       "      <td>Released</td>\n",
       "      <td>The ultimate showdown on a forbidden planet.</td>\n",
       "      <td>For the Cause</td>\n",
       "      <td>0.0</td>\n",
       "      <td>4.4</td>\n",
       "      <td>7.0</td>\n",
       "      <td>NaN</td>\n",
       "      <td>2000</td>\n",
       "      <td>11</td>\n",
       "      <td>15</td>\n",
       "    </tr>\n",
       "  </tbody>\n",
       "</table>\n",
       "<p>2 rows × 29 columns</p>\n",
       "</div>"
      ],
      "text/plain": [
       "     imdb_id  adult                     backdrop_path  belongs_to_collection  \\\n",
       "1  tt0113026    0.0  /vMFs7nw6P0bIV1jDsQpxAieAVnH.jpg                      0   \n",
       "2  tt0113092    0.0                               NaN                      0   \n",
       "\n",
       "       budget                                             genres homepage  \\\n",
       "1  10000000.0  [{'id': 35, 'name': 'Comedy'}, {'id': 10402, '...      NaN   \n",
       "2         0.0           [{'id': 878, 'name': 'Science Fiction'}]      NaN   \n",
       "\n",
       "         id original_language   original_title  ...    status  \\\n",
       "1   62127.0                en  The Fantasticks  ...  Released   \n",
       "2  110977.0                en    For the Cause  ...  Released   \n",
       "\n",
       "                                         tagline            title video  \\\n",
       "1  Try to remember the first time magic happened  The Fantasticks   0.0   \n",
       "2   The ultimate showdown on a forbidden planet.    For the Cause   0.0   \n",
       "\n",
       "  vote_average vote_count  certification  year month day  \n",
       "1          5.4       21.0            NaN  2000     9  22  \n",
       "2          4.4        7.0            NaN  2000    11  15  \n",
       "\n",
       "[2 rows x 29 columns]"
      ]
     },
     "execution_count": 26,
     "metadata": {},
     "output_type": "execute_result"
    }
   ],
   "source": [
    "tmdb_merged = tmdb_merged[~tmdb_merged['release_date'].isna()]\n",
    "tmdb_merged[['year', 'month', 'day']] = tmdb_merged['release_date'].str.split('-', expand = True)\n",
    "tmdb_merged[['year', 'month', 'day']] = tmdb_merged[['year', 'month', 'day']].astype(int)\n",
    "tmdb_merged.head(2)"
   ]
  },
  {
   "cell_type": "code",
   "execution_count": 27,
   "id": "3342326c",
   "metadata": {},
   "outputs": [],
   "source": [
    "## A few entries in the TMDB database indicate release year prior to 2000. Drop these.\n",
    "tmdb_merged = tmdb_merged[tmdb_merged['year'] >= 2000]"
   ]
  },
  {
   "cell_type": "markdown",
   "id": "3bc4b2ef",
   "metadata": {},
   "source": [
    "### Budget, Revenue, and Profit"
   ]
  },
  {
   "cell_type": "code",
   "execution_count": 28,
   "id": "53fb7580",
   "metadata": {},
   "outputs": [
    {
     "data": {
      "text/html": [
       "<div>\n",
       "<style scoped>\n",
       "    .dataframe tbody tr th:only-of-type {\n",
       "        vertical-align: middle;\n",
       "    }\n",
       "\n",
       "    .dataframe tbody tr th {\n",
       "        vertical-align: top;\n",
       "    }\n",
       "\n",
       "    .dataframe thead th {\n",
       "        text-align: right;\n",
       "    }\n",
       "</style>\n",
       "<table border=\"1\" class=\"dataframe\">\n",
       "  <thead>\n",
       "    <tr style=\"text-align: right;\">\n",
       "      <th></th>\n",
       "      <th>Jan</th>\n",
       "      <th>Feb</th>\n",
       "      <th>Mar</th>\n",
       "      <th>Apr</th>\n",
       "      <th>May</th>\n",
       "      <th>Jun</th>\n",
       "      <th>Jul</th>\n",
       "      <th>Aug</th>\n",
       "      <th>Sep</th>\n",
       "      <th>Oct</th>\n",
       "      <th>Nov</th>\n",
       "      <th>Dec</th>\n",
       "      <th>Annual</th>\n",
       "      <th>HALF1</th>\n",
       "      <th>HALF2</th>\n",
       "    </tr>\n",
       "    <tr>\n",
       "      <th>Year</th>\n",
       "      <th></th>\n",
       "      <th></th>\n",
       "      <th></th>\n",
       "      <th></th>\n",
       "      <th></th>\n",
       "      <th></th>\n",
       "      <th></th>\n",
       "      <th></th>\n",
       "      <th></th>\n",
       "      <th></th>\n",
       "      <th></th>\n",
       "      <th></th>\n",
       "      <th></th>\n",
       "      <th></th>\n",
       "      <th></th>\n",
       "    </tr>\n",
       "  </thead>\n",
       "  <tbody>\n",
       "    <tr>\n",
       "      <th>2000</th>\n",
       "      <td>168.8</td>\n",
       "      <td>169.8</td>\n",
       "      <td>171.2</td>\n",
       "      <td>171.3</td>\n",
       "      <td>171.5</td>\n",
       "      <td>172.4</td>\n",
       "      <td>172.8</td>\n",
       "      <td>172.8</td>\n",
       "      <td>173.7</td>\n",
       "      <td>174.0</td>\n",
       "      <td>174.1</td>\n",
       "      <td>174.0</td>\n",
       "      <td>172.2</td>\n",
       "      <td>170.8</td>\n",
       "      <td>173.6</td>\n",
       "    </tr>\n",
       "    <tr>\n",
       "      <th>2001</th>\n",
       "      <td>175.1</td>\n",
       "      <td>175.8</td>\n",
       "      <td>176.2</td>\n",
       "      <td>176.9</td>\n",
       "      <td>177.7</td>\n",
       "      <td>178.0</td>\n",
       "      <td>177.5</td>\n",
       "      <td>177.5</td>\n",
       "      <td>178.3</td>\n",
       "      <td>177.7</td>\n",
       "      <td>177.4</td>\n",
       "      <td>176.7</td>\n",
       "      <td>177.1</td>\n",
       "      <td>176.6</td>\n",
       "      <td>177.5</td>\n",
       "    </tr>\n",
       "    <tr>\n",
       "      <th>2002</th>\n",
       "      <td>177.1</td>\n",
       "      <td>177.8</td>\n",
       "      <td>178.8</td>\n",
       "      <td>179.8</td>\n",
       "      <td>179.8</td>\n",
       "      <td>179.9</td>\n",
       "      <td>180.1</td>\n",
       "      <td>180.7</td>\n",
       "      <td>181.0</td>\n",
       "      <td>181.3</td>\n",
       "      <td>181.3</td>\n",
       "      <td>180.9</td>\n",
       "      <td>179.9</td>\n",
       "      <td>178.9</td>\n",
       "      <td>180.9</td>\n",
       "    </tr>\n",
       "    <tr>\n",
       "      <th>2003</th>\n",
       "      <td>181.7</td>\n",
       "      <td>183.1</td>\n",
       "      <td>184.2</td>\n",
       "      <td>183.8</td>\n",
       "      <td>183.5</td>\n",
       "      <td>183.7</td>\n",
       "      <td>183.9</td>\n",
       "      <td>184.6</td>\n",
       "      <td>185.2</td>\n",
       "      <td>185.0</td>\n",
       "      <td>184.5</td>\n",
       "      <td>184.3</td>\n",
       "      <td>184.0</td>\n",
       "      <td>183.3</td>\n",
       "      <td>184.6</td>\n",
       "    </tr>\n",
       "    <tr>\n",
       "      <th>2004</th>\n",
       "      <td>185.2</td>\n",
       "      <td>186.2</td>\n",
       "      <td>187.4</td>\n",
       "      <td>188.0</td>\n",
       "      <td>189.1</td>\n",
       "      <td>189.7</td>\n",
       "      <td>189.4</td>\n",
       "      <td>189.5</td>\n",
       "      <td>189.9</td>\n",
       "      <td>190.9</td>\n",
       "      <td>191.0</td>\n",
       "      <td>190.3</td>\n",
       "      <td>188.9</td>\n",
       "      <td>187.6</td>\n",
       "      <td>190.2</td>\n",
       "    </tr>\n",
       "  </tbody>\n",
       "</table>\n",
       "</div>"
      ],
      "text/plain": [
       "        Jan    Feb    Mar    Apr    May    Jun    Jul    Aug    Sep    Oct  \\\n",
       "Year                                                                         \n",
       "2000  168.8  169.8  171.2  171.3  171.5  172.4  172.8  172.8  173.7  174.0   \n",
       "2001  175.1  175.8  176.2  176.9  177.7  178.0  177.5  177.5  178.3  177.7   \n",
       "2002  177.1  177.8  178.8  179.8  179.8  179.9  180.1  180.7  181.0  181.3   \n",
       "2003  181.7  183.1  184.2  183.8  183.5  183.7  183.9  184.6  185.2  185.0   \n",
       "2004  185.2  186.2  187.4  188.0  189.1  189.7  189.4  189.5  189.9  190.9   \n",
       "\n",
       "        Nov    Dec  Annual  HALF1  HALF2  \n",
       "Year                                      \n",
       "2000  174.1  174.0   172.2  170.8  173.6  \n",
       "2001  177.4  176.7   177.1  176.6  177.5  \n",
       "2002  181.3  180.9   179.9  178.9  180.9  \n",
       "2003  184.5  184.3   184.0  183.3  184.6  \n",
       "2004  191.0  190.3   188.9  187.6  190.2  "
      ]
     },
     "execution_count": 28,
     "metadata": {},
     "output_type": "execute_result"
    }
   ],
   "source": [
    "dollar_value = pd.read_csv(\"data/bls_dollar_value.csv\", \n",
    "                           skiprows=10 , header = [1], index_col= 0)\n",
    "dollar_value.head()"
   ]
  },
  {
   "cell_type": "code",
   "execution_count": 29,
   "id": "60274404",
   "metadata": {},
   "outputs": [],
   "source": [
    "dollar_adj = dict(zip(dollar_value.index, dollar_value['Annual']))"
   ]
  },
  {
   "cell_type": "code",
   "execution_count": 30,
   "id": "94216924",
   "metadata": {},
   "outputs": [],
   "source": [
    "tmdb_merged['budget_adj'] = tmdb_merged[tmdb_merged['budget'].isna() == False] \\\n",
    "    .apply(lambda x : (x['budget']/dollar_adj[x['year']]) * dollar_adj[2021], \\\n",
    "    axis = 1)\n",
    "\n",
    "tmdb_merged['revenue_adj'] = tmdb_merged[tmdb_merged['revenue'].isna() == False] \\\n",
    "    .apply(lambda x : (x['revenue']/dollar_adj[x['year']]) * dollar_adj[2021], \\\n",
    "    axis = 1)\n",
    "\n",
    "tmdb_merged['profit_adj'] = tmdb_merged['revenue_adj'] - tmdb_merged['budget_adj']"
   ]
  },
  {
   "cell_type": "code",
   "execution_count": 31,
   "id": "e69d1c3d",
   "metadata": {},
   "outputs": [],
   "source": [
    "tmdb_merged[['budget_adj', 'revenue_adj', 'profit_adj']] = \\\n",
    "    round(tmdb_merged[['budget_adj', 'revenue_adj', 'profit_adj']], 2)"
   ]
  },
  {
   "cell_type": "markdown",
   "id": "3f1d5ce4",
   "metadata": {},
   "source": [
    "## Feature Selection\n",
    "- title, adult, genres, runtime, and release_date already exist within the IMDB database\n",
    "- popularity metrics (vote_average, vote_count, and popularity) are also captured by IMDB in their own metrics.\n",
    "- backgrop_path, homepage, tagline, poster_path original_title, video, overview, original and spoken languages, and id are not useful for our database based on our stakeholder's desired interests.\n"
   ]
  },
  {
   "cell_type": "code",
   "execution_count": 32,
   "id": "93ce7202",
   "metadata": {},
   "outputs": [],
   "source": [
    "## Grab columns we want for the database\n",
    "drop_list=['adult', 'runtime', 'genres', 'release_date', 'budget', 'revenue',\n",
    "           'title', 'vote_count', 'vote_average', 'popularity', 'backdrop_path', \n",
    "           'homepage', 'tagline', 'poster_path', 'original_title', 'id', \n",
    "           'video', 'overview', 'original_language', 'spoken_languages']\n",
    "\n",
    "tmdb_merged = tmdb_merged.drop(columns = drop_list)"
   ]
  },
  {
   "cell_type": "code",
   "execution_count": 33,
   "id": "de6e84c7",
   "metadata": {},
   "outputs": [],
   "source": [
    "## Rename imdb_id to tconst to match the IMDB DataFrames/Tables.\n",
    "tmdb_merged = tmdb_merged.rename(columns = {'imdb_id':'tconst'})"
   ]
  },
  {
   "cell_type": "code",
   "execution_count": 34,
   "id": "8ce88bcb",
   "metadata": {},
   "outputs": [
    {
     "data": {
      "text/html": [
       "<div>\n",
       "<style scoped>\n",
       "    .dataframe tbody tr th:only-of-type {\n",
       "        vertical-align: middle;\n",
       "    }\n",
       "\n",
       "    .dataframe tbody tr th {\n",
       "        vertical-align: top;\n",
       "    }\n",
       "\n",
       "    .dataframe thead th {\n",
       "        text-align: right;\n",
       "    }\n",
       "</style>\n",
       "<table border=\"1\" class=\"dataframe\">\n",
       "  <thead>\n",
       "    <tr style=\"text-align: right;\">\n",
       "      <th></th>\n",
       "      <th>tconst</th>\n",
       "      <th>belongs_to_collection</th>\n",
       "      <th>production_companies</th>\n",
       "      <th>production_countries</th>\n",
       "      <th>status</th>\n",
       "      <th>certification</th>\n",
       "      <th>year</th>\n",
       "      <th>month</th>\n",
       "      <th>day</th>\n",
       "      <th>budget_adj</th>\n",
       "      <th>revenue_adj</th>\n",
       "      <th>profit_adj</th>\n",
       "    </tr>\n",
       "  </thead>\n",
       "  <tbody>\n",
       "    <tr>\n",
       "      <th>1</th>\n",
       "      <td>tt0113026</td>\n",
       "      <td>0</td>\n",
       "      <td>[{'id': 51207, 'logo_path': None, 'name': 'Sul...</td>\n",
       "      <td>[{'iso_3166_1': 'US', 'name': 'United States o...</td>\n",
       "      <td>Released</td>\n",
       "      <td>NaN</td>\n",
       "      <td>2000</td>\n",
       "      <td>9</td>\n",
       "      <td>22</td>\n",
       "      <td>15735772.36</td>\n",
       "      <td>0.00</td>\n",
       "      <td>-15735772.36</td>\n",
       "    </tr>\n",
       "    <tr>\n",
       "      <th>2</th>\n",
       "      <td>tt0113092</td>\n",
       "      <td>0</td>\n",
       "      <td>[{'id': 7405, 'logo_path': '/rfnws0uY8rsNAsrLb...</td>\n",
       "      <td>[{'iso_3166_1': 'US', 'name': 'United States o...</td>\n",
       "      <td>Released</td>\n",
       "      <td>NaN</td>\n",
       "      <td>2000</td>\n",
       "      <td>11</td>\n",
       "      <td>15</td>\n",
       "      <td>0.00</td>\n",
       "      <td>0.00</td>\n",
       "      <td>0.00</td>\n",
       "    </tr>\n",
       "    <tr>\n",
       "      <th>3</th>\n",
       "      <td>tt0116391</td>\n",
       "      <td>0</td>\n",
       "      <td>[]</td>\n",
       "      <td>[{'iso_3166_1': 'IN', 'name': 'India'}]</td>\n",
       "      <td>Released</td>\n",
       "      <td>NaN</td>\n",
       "      <td>2000</td>\n",
       "      <td>4</td>\n",
       "      <td>14</td>\n",
       "      <td>0.00</td>\n",
       "      <td>0.00</td>\n",
       "      <td>0.00</td>\n",
       "    </tr>\n",
       "    <tr>\n",
       "      <th>4</th>\n",
       "      <td>tt0118694</td>\n",
       "      <td>0</td>\n",
       "      <td>[{'id': 539, 'logo_path': None, 'name': 'Block...</td>\n",
       "      <td>[{'iso_3166_1': 'CN', 'name': 'China'}, {'iso_...</td>\n",
       "      <td>Released</td>\n",
       "      <td>PG</td>\n",
       "      <td>2000</td>\n",
       "      <td>9</td>\n",
       "      <td>29</td>\n",
       "      <td>236036.59</td>\n",
       "      <td>20228261.41</td>\n",
       "      <td>19992224.82</td>\n",
       "    </tr>\n",
       "    <tr>\n",
       "      <th>5</th>\n",
       "      <td>tt0118852</td>\n",
       "      <td>0</td>\n",
       "      <td>[{'id': 67930, 'logo_path': None, 'name': 'Cha...</td>\n",
       "      <td>[{'iso_3166_1': 'US', 'name': 'United States o...</td>\n",
       "      <td>Released</td>\n",
       "      <td>R</td>\n",
       "      <td>2000</td>\n",
       "      <td>9</td>\n",
       "      <td>2</td>\n",
       "      <td>0.00</td>\n",
       "      <td>0.00</td>\n",
       "      <td>0.00</td>\n",
       "    </tr>\n",
       "  </tbody>\n",
       "</table>\n",
       "</div>"
      ],
      "text/plain": [
       "      tconst  belongs_to_collection  \\\n",
       "1  tt0113026                      0   \n",
       "2  tt0113092                      0   \n",
       "3  tt0116391                      0   \n",
       "4  tt0118694                      0   \n",
       "5  tt0118852                      0   \n",
       "\n",
       "                                production_companies  \\\n",
       "1  [{'id': 51207, 'logo_path': None, 'name': 'Sul...   \n",
       "2  [{'id': 7405, 'logo_path': '/rfnws0uY8rsNAsrLb...   \n",
       "3                                                 []   \n",
       "4  [{'id': 539, 'logo_path': None, 'name': 'Block...   \n",
       "5  [{'id': 67930, 'logo_path': None, 'name': 'Cha...   \n",
       "\n",
       "                                production_countries    status certification  \\\n",
       "1  [{'iso_3166_1': 'US', 'name': 'United States o...  Released           NaN   \n",
       "2  [{'iso_3166_1': 'US', 'name': 'United States o...  Released           NaN   \n",
       "3            [{'iso_3166_1': 'IN', 'name': 'India'}]  Released           NaN   \n",
       "4  [{'iso_3166_1': 'CN', 'name': 'China'}, {'iso_...  Released            PG   \n",
       "5  [{'iso_3166_1': 'US', 'name': 'United States o...  Released             R   \n",
       "\n",
       "   year  month  day   budget_adj  revenue_adj   profit_adj  \n",
       "1  2000      9   22  15735772.36         0.00 -15735772.36  \n",
       "2  2000     11   15         0.00         0.00         0.00  \n",
       "3  2000      4   14         0.00         0.00         0.00  \n",
       "4  2000      9   29    236036.59  20228261.41  19992224.82  \n",
       "5  2000      9    2         0.00         0.00         0.00  "
      ]
     },
     "execution_count": 34,
     "metadata": {},
     "output_type": "execute_result"
    }
   ],
   "source": [
    "tmdb_merged.head()"
   ]
  },
  {
   "cell_type": "markdown",
   "id": "02a957a6",
   "metadata": {},
   "source": [
    "# Remove Extra Files\n",
    "Our JSON files have been made into csv.gz files. Likewise, these csv.gz files have been merged into a single csv.gz file...  We do not need to keep these files as they are just taking up extra space and can be deleted. \n",
    "\n",
    "**Note:** This section is commented out to keep anyone from deleting files they might want to keep. Only run if you are willing/able to remove the non-merged csvs and JSON files."
   ]
  },
  {
   "cell_type": "code",
   "execution_count": 35,
   "id": "0233eb0d",
   "metadata": {},
   "outputs": [],
   "source": [
    "## Loop through and remove JSON files created above.\n",
    "# for YEAR in YEARS_TO_GET:\n",
    "#     if os.path.exists(f'{FOLDER}tmdb_api_requests_{YEAR}.json'):\n",
    "#         os.remove(f'{FOLDER}tmdb_api_requests_{YEAR}.json')\n",
    "#     else:\n",
    "#         print (f\"file {FOLDER}tmdb_api_requests_{YEAR}.json does not exist\")\n",
    "\n",
    "## Loop through and remove merged csv files\n",
    "# for YEAR in YEARS:\n",
    "#     if os.path.exists(f\"{FOLDER}final_tmdb_data_{YEAR}.csv.gz\"):\n",
    "#         os.remove(f\"{FOLDER}final_tmdb_data_{YEAR}.csv.gz\")\n",
    "#         print(f'file {FOLDER}final_tmdb_data_{YEAR}.csv.gz removed')\n",
    "#     else:\n",
    "#         print(f'file {FOLDER}final_tmdb_data_{YEAR}.csv.gz does not exist')"
   ]
  },
  {
   "cell_type": "markdown",
   "id": "0ae56864",
   "metadata": {},
   "source": [
    "# Save Cleaned DataFrames\n",
    "Save out IMDB and TMDB DataFrames for use in EDA, Database Creation, Hypothesis Testing, and Modeling"
   ]
  },
  {
   "cell_type": "code",
   "execution_count": 36,
   "id": "500d2807",
   "metadata": {},
   "outputs": [],
   "source": [
    "## Save out DF for use in other steps\n",
    "tmdb_merged.to_csv(f\"{FOLDER}tmdb_merged.csv.gz\", compression=\"gzip\", index=False)\n",
    "basics.to_csv(f\"{FOLDER}title_basics.csv.gz\",compression='gzip',index=False)\n",
    "akas.to_csv(f\"{FOLDER}title_akas.csv.gz\",compression='gzip',index=False)\n",
    "ratings.to_csv(f\"{FOLDER}title_ratings.csv.gz\",compression='gzip',index=False)"
   ]
  },
  {
   "cell_type": "markdown",
   "id": "90454145",
   "metadata": {},
   "source": [
    "# EDA"
   ]
  },
  {
   "cell_type": "code",
   "execution_count": 37,
   "id": "00973f17",
   "metadata": {},
   "outputs": [],
   "source": [
    "# Load in data\n",
    "tmdb_merged = pd.read_csv(f\"{FOLDER}tmdb_merged.csv.gz\")"
   ]
  },
  {
   "cell_type": "code",
   "execution_count": 38,
   "id": "2b0a0d8a",
   "metadata": {},
   "outputs": [],
   "source": [
    "# Make a copy for visualization purposes\n",
    "tmdb_viz = tmdb_merged.copy()"
   ]
  },
  {
   "cell_type": "code",
   "execution_count": 39,
   "id": "b7012c75",
   "metadata": {},
   "outputs": [
    {
     "data": {
      "text/html": [
       "<div>\n",
       "<style scoped>\n",
       "    .dataframe tbody tr th:only-of-type {\n",
       "        vertical-align: middle;\n",
       "    }\n",
       "\n",
       "    .dataframe tbody tr th {\n",
       "        vertical-align: top;\n",
       "    }\n",
       "\n",
       "    .dataframe thead th {\n",
       "        text-align: right;\n",
       "    }\n",
       "</style>\n",
       "<table border=\"1\" class=\"dataframe\">\n",
       "  <thead>\n",
       "    <tr style=\"text-align: right;\">\n",
       "      <th></th>\n",
       "      <th>tconst</th>\n",
       "      <th>belongs_to_collection</th>\n",
       "      <th>production_companies</th>\n",
       "      <th>production_countries</th>\n",
       "      <th>status</th>\n",
       "      <th>certification</th>\n",
       "      <th>year</th>\n",
       "      <th>month</th>\n",
       "      <th>day</th>\n",
       "      <th>budget_adj</th>\n",
       "      <th>revenue_adj</th>\n",
       "      <th>profit_adj</th>\n",
       "    </tr>\n",
       "  </thead>\n",
       "  <tbody>\n",
       "    <tr>\n",
       "      <th>0</th>\n",
       "      <td>tt0113026</td>\n",
       "      <td>0</td>\n",
       "      <td>[{'id': 51207, 'logo_path': None, 'name': 'Sul...</td>\n",
       "      <td>[{'iso_3166_1': 'US', 'name': 'United States o...</td>\n",
       "      <td>Released</td>\n",
       "      <td>NaN</td>\n",
       "      <td>2000</td>\n",
       "      <td>9</td>\n",
       "      <td>22</td>\n",
       "      <td>15735772.36</td>\n",
       "      <td>0.00</td>\n",
       "      <td>-15735772.36</td>\n",
       "    </tr>\n",
       "    <tr>\n",
       "      <th>1</th>\n",
       "      <td>tt0113092</td>\n",
       "      <td>0</td>\n",
       "      <td>[{'id': 7405, 'logo_path': '/rfnws0uY8rsNAsrLb...</td>\n",
       "      <td>[{'iso_3166_1': 'US', 'name': 'United States o...</td>\n",
       "      <td>Released</td>\n",
       "      <td>NaN</td>\n",
       "      <td>2000</td>\n",
       "      <td>11</td>\n",
       "      <td>15</td>\n",
       "      <td>0.00</td>\n",
       "      <td>0.00</td>\n",
       "      <td>0.00</td>\n",
       "    </tr>\n",
       "    <tr>\n",
       "      <th>2</th>\n",
       "      <td>tt0116391</td>\n",
       "      <td>0</td>\n",
       "      <td>[]</td>\n",
       "      <td>[{'iso_3166_1': 'IN', 'name': 'India'}]</td>\n",
       "      <td>Released</td>\n",
       "      <td>NaN</td>\n",
       "      <td>2000</td>\n",
       "      <td>4</td>\n",
       "      <td>14</td>\n",
       "      <td>0.00</td>\n",
       "      <td>0.00</td>\n",
       "      <td>0.00</td>\n",
       "    </tr>\n",
       "    <tr>\n",
       "      <th>3</th>\n",
       "      <td>tt0118694</td>\n",
       "      <td>0</td>\n",
       "      <td>[{'id': 539, 'logo_path': None, 'name': 'Block...</td>\n",
       "      <td>[{'iso_3166_1': 'CN', 'name': 'China'}, {'iso_...</td>\n",
       "      <td>Released</td>\n",
       "      <td>PG</td>\n",
       "      <td>2000</td>\n",
       "      <td>9</td>\n",
       "      <td>29</td>\n",
       "      <td>236036.59</td>\n",
       "      <td>20228261.41</td>\n",
       "      <td>19992224.82</td>\n",
       "    </tr>\n",
       "    <tr>\n",
       "      <th>4</th>\n",
       "      <td>tt0118852</td>\n",
       "      <td>0</td>\n",
       "      <td>[{'id': 67930, 'logo_path': None, 'name': 'Cha...</td>\n",
       "      <td>[{'iso_3166_1': 'US', 'name': 'United States o...</td>\n",
       "      <td>Released</td>\n",
       "      <td>R</td>\n",
       "      <td>2000</td>\n",
       "      <td>9</td>\n",
       "      <td>2</td>\n",
       "      <td>0.00</td>\n",
       "      <td>0.00</td>\n",
       "      <td>0.00</td>\n",
       "    </tr>\n",
       "    <tr>\n",
       "      <th>...</th>\n",
       "      <td>...</td>\n",
       "      <td>...</td>\n",
       "      <td>...</td>\n",
       "      <td>...</td>\n",
       "      <td>...</td>\n",
       "      <td>...</td>\n",
       "      <td>...</td>\n",
       "      <td>...</td>\n",
       "      <td>...</td>\n",
       "      <td>...</td>\n",
       "      <td>...</td>\n",
       "      <td>...</td>\n",
       "    </tr>\n",
       "    <tr>\n",
       "      <th>58976</th>\n",
       "      <td>tt9895024</td>\n",
       "      <td>0</td>\n",
       "      <td>[{'id': 154995, 'logo_path': None, 'name': 'AS...</td>\n",
       "      <td>[{'iso_3166_1': 'DE', 'name': 'Germany'}]</td>\n",
       "      <td>Released</td>\n",
       "      <td>NaN</td>\n",
       "      <td>2021</td>\n",
       "      <td>9</td>\n",
       "      <td>8</td>\n",
       "      <td>0.00</td>\n",
       "      <td>0.00</td>\n",
       "      <td>0.00</td>\n",
       "    </tr>\n",
       "    <tr>\n",
       "      <th>58977</th>\n",
       "      <td>tt9896876</td>\n",
       "      <td>0</td>\n",
       "      <td>[{'id': 737, 'logo_path': '/dK1GZ1u4our8sJW0St...</td>\n",
       "      <td>[{'iso_3166_1': 'US', 'name': 'United States o...</td>\n",
       "      <td>Released</td>\n",
       "      <td>PG-13</td>\n",
       "      <td>2021</td>\n",
       "      <td>11</td>\n",
       "      <td>19</td>\n",
       "      <td>0.00</td>\n",
       "      <td>0.00</td>\n",
       "      <td>0.00</td>\n",
       "    </tr>\n",
       "    <tr>\n",
       "      <th>58978</th>\n",
       "      <td>tt9898844</td>\n",
       "      <td>0</td>\n",
       "      <td>[{'id': 160303, 'logo_path': None, 'name': 'Mo...</td>\n",
       "      <td>[{'iso_3166_1': 'US', 'name': 'United States o...</td>\n",
       "      <td>Released</td>\n",
       "      <td>NaN</td>\n",
       "      <td>2022</td>\n",
       "      <td>1</td>\n",
       "      <td>21</td>\n",
       "      <td>NaN</td>\n",
       "      <td>NaN</td>\n",
       "      <td>NaN</td>\n",
       "    </tr>\n",
       "    <tr>\n",
       "      <th>58979</th>\n",
       "      <td>tt9900940</td>\n",
       "      <td>0</td>\n",
       "      <td>[{'id': 91999, 'logo_path': None, 'name': 'Luc...</td>\n",
       "      <td>[{'iso_3166_1': 'US', 'name': 'United States o...</td>\n",
       "      <td>Released</td>\n",
       "      <td>NaN</td>\n",
       "      <td>2021</td>\n",
       "      <td>12</td>\n",
       "      <td>7</td>\n",
       "      <td>0.00</td>\n",
       "      <td>0.00</td>\n",
       "      <td>0.00</td>\n",
       "    </tr>\n",
       "    <tr>\n",
       "      <th>58980</th>\n",
       "      <td>tt9907782</td>\n",
       "      <td>0</td>\n",
       "      <td>[{'id': 26065, 'logo_path': None, 'name': 'Pis...</td>\n",
       "      <td>[{'iso_3166_1': 'US', 'name': 'United States o...</td>\n",
       "      <td>Released</td>\n",
       "      <td>R</td>\n",
       "      <td>2021</td>\n",
       "      <td>7</td>\n",
       "      <td>28</td>\n",
       "      <td>0.00</td>\n",
       "      <td>4588389.00</td>\n",
       "      <td>4588389.00</td>\n",
       "    </tr>\n",
       "  </tbody>\n",
       "</table>\n",
       "<p>58981 rows × 12 columns</p>\n",
       "</div>"
      ],
      "text/plain": [
       "          tconst  belongs_to_collection  \\\n",
       "0      tt0113026                      0   \n",
       "1      tt0113092                      0   \n",
       "2      tt0116391                      0   \n",
       "3      tt0118694                      0   \n",
       "4      tt0118852                      0   \n",
       "...          ...                    ...   \n",
       "58976  tt9895024                      0   \n",
       "58977  tt9896876                      0   \n",
       "58978  tt9898844                      0   \n",
       "58979  tt9900940                      0   \n",
       "58980  tt9907782                      0   \n",
       "\n",
       "                                    production_companies  \\\n",
       "0      [{'id': 51207, 'logo_path': None, 'name': 'Sul...   \n",
       "1      [{'id': 7405, 'logo_path': '/rfnws0uY8rsNAsrLb...   \n",
       "2                                                     []   \n",
       "3      [{'id': 539, 'logo_path': None, 'name': 'Block...   \n",
       "4      [{'id': 67930, 'logo_path': None, 'name': 'Cha...   \n",
       "...                                                  ...   \n",
       "58976  [{'id': 154995, 'logo_path': None, 'name': 'AS...   \n",
       "58977  [{'id': 737, 'logo_path': '/dK1GZ1u4our8sJW0St...   \n",
       "58978  [{'id': 160303, 'logo_path': None, 'name': 'Mo...   \n",
       "58979  [{'id': 91999, 'logo_path': None, 'name': 'Luc...   \n",
       "58980  [{'id': 26065, 'logo_path': None, 'name': 'Pis...   \n",
       "\n",
       "                                    production_countries    status  \\\n",
       "0      [{'iso_3166_1': 'US', 'name': 'United States o...  Released   \n",
       "1      [{'iso_3166_1': 'US', 'name': 'United States o...  Released   \n",
       "2                [{'iso_3166_1': 'IN', 'name': 'India'}]  Released   \n",
       "3      [{'iso_3166_1': 'CN', 'name': 'China'}, {'iso_...  Released   \n",
       "4      [{'iso_3166_1': 'US', 'name': 'United States o...  Released   \n",
       "...                                                  ...       ...   \n",
       "58976          [{'iso_3166_1': 'DE', 'name': 'Germany'}]  Released   \n",
       "58977  [{'iso_3166_1': 'US', 'name': 'United States o...  Released   \n",
       "58978  [{'iso_3166_1': 'US', 'name': 'United States o...  Released   \n",
       "58979  [{'iso_3166_1': 'US', 'name': 'United States o...  Released   \n",
       "58980  [{'iso_3166_1': 'US', 'name': 'United States o...  Released   \n",
       "\n",
       "      certification  year  month  day   budget_adj  revenue_adj   profit_adj  \n",
       "0               NaN  2000      9   22  15735772.36         0.00 -15735772.36  \n",
       "1               NaN  2000     11   15         0.00         0.00         0.00  \n",
       "2               NaN  2000      4   14         0.00         0.00         0.00  \n",
       "3                PG  2000      9   29    236036.59  20228261.41  19992224.82  \n",
       "4                 R  2000      9    2         0.00         0.00         0.00  \n",
       "...             ...   ...    ...  ...          ...          ...          ...  \n",
       "58976           NaN  2021      9    8         0.00         0.00         0.00  \n",
       "58977         PG-13  2021     11   19         0.00         0.00         0.00  \n",
       "58978           NaN  2022      1   21          NaN          NaN          NaN  \n",
       "58979           NaN  2021     12    7         0.00         0.00         0.00  \n",
       "58980             R  2021      7   28         0.00   4588389.00   4588389.00  \n",
       "\n",
       "[58981 rows x 12 columns]"
      ]
     },
     "execution_count": 39,
     "metadata": {},
     "output_type": "execute_result"
    }
   ],
   "source": [
    "tmdb_viz"
   ]
  },
  {
   "cell_type": "code",
   "execution_count": 40,
   "id": "0874676d",
   "metadata": {},
   "outputs": [
    {
     "name": "stderr",
     "output_type": "stream",
     "text": [
      "G:\\Program Files (x86)\\anaconda3\\envs\\dojo-env\\lib\\site-packages\\pandas\\util\\_decorators.py:311: SettingWithCopyWarning: \n",
      "A value is trying to be set on a copy of a slice from a DataFrame\n",
      "\n",
      "See the caveats in the documentation: https://pandas.pydata.org/pandas-docs/stable/user_guide/indexing.html#returning-a-view-versus-a-copy\n",
      "  return func(*args, **kwargs)\n"
     ]
    }
   ],
   "source": [
    "# Our stakeholder has expressed an interest in seeing only 'rated' movies budgets/revenue for comparison.\n",
    "nr = tmdb_viz['certification'] == 'NR'\n",
    "unrated = tmdb_viz['certification'] == 'Unrated'\n",
    "nc17 = tmdb_viz['certification'] == 'NC-17'\n",
    "\n",
    "tmdb_viz = tmdb_viz[~(nr | unrated | nc17)]\n",
    "tmdb_viz.dropna(subset= ['certification'], inplace = True)"
   ]
  },
  {
   "cell_type": "code",
   "execution_count": 41,
   "id": "8ce23275",
   "metadata": {},
   "outputs": [
    {
     "name": "stdout",
     "output_type": "stream",
     "text": [
      "5092 rows have budget information.\n",
      "4778 rows have revenue information.\n",
      "3763 rows have both budget AND revenue information.\n"
     ]
    }
   ],
   "source": [
    "# Lets see what our dataset has in terms of budget/revenue data\n",
    "budget = tmdb_viz['budget_adj'] > 0\n",
    "revenue = tmdb_viz['revenue_adj'] > 0\n",
    "both = tmdb_viz[budget & revenue]\n",
    "\n",
    "print(f'{budget.sum()} rows have budget information.')\n",
    "print(f'{revenue.sum()} rows have revenue information.')\n",
    "print(f'{both[\"tconst\"].count()} rows have both budget AND revenue information.')"
   ]
  },
  {
   "cell_type": "code",
   "execution_count": 42,
   "id": "7754d763",
   "metadata": {},
   "outputs": [],
   "source": [
    "# Grab movies with either budget OR revenue information available.\n",
    "tmdb_viz = tmdb_viz[budget & revenue]"
   ]
  },
  {
   "cell_type": "markdown",
   "id": "f0e6149d",
   "metadata": {},
   "source": [
    "### Viz: Distriubution by Rating"
   ]
  },
  {
   "cell_type": "code",
   "execution_count": 43,
   "id": "e465b9f0",
   "metadata": {},
   "outputs": [],
   "source": [
    "## Set certification to a categorical ordering\n",
    "tmdb_viz['certification'] = pd.Categorical(tmdb_viz['certification'],\n",
    "                                           ['G','PG','PG-13','R'])"
   ]
  },
  {
   "cell_type": "code",
   "execution_count": 44,
   "id": "8dde7c4d",
   "metadata": {},
   "outputs": [
    {
     "data": {
      "image/png": "[encoded data removed]",
      "text/plain": [
       "<Figure size 720x432 with 1 Axes>"
      ]
     },
     "metadata": {
      "needs_background": "light"
     },
     "output_type": "display_data"
    }
   ],
   "source": [
    "## Visualize Distribution by Rating\n",
    "fig, ax = plt.subplots(figsize = (10,6))\n",
    "sns.histplot(y = tmdb_viz['certification'], \n",
    "             color = \"#006400\", alpha = .8, shrink = .85)\n",
    "plt.title('Movie by Rating\\n 2000 through 2021', \n",
    "             fontsize = 18, weight = 'bold')\n",
    "plt.xlabel('Count', fontsize=14, weight = 'semibold')\n",
    "plt.ylabel('Rating',  fontsize=14, weight = 'semibold')\n",
    "plt.grid(axis = 'x', alpha = .6)\n",
    "ax.set_axisbelow(True)\n",
    "fig.tight_layout()"
   ]
  },
  {
   "cell_type": "markdown",
   "id": "fdc3a174",
   "metadata": {},
   "source": [
    "### Viz: Mean Budget and Revenue by Rating"
   ]
  },
  {
   "cell_type": "code",
   "execution_count": 45,
   "id": "6439d165",
   "metadata": {
    "scrolled": true
   },
   "outputs": [
    {
     "data": {
      "text/plain": [
       "certification\n",
       "PG       7.343425e+07\n",
       "G        6.811639e+07\n",
       "PG-13    6.685344e+07\n",
       "R        3.024336e+07\n",
       "Name: budget_adj, dtype: float64"
      ]
     },
     "execution_count": 45,
     "metadata": {},
     "output_type": "execute_result"
    }
   ],
   "source": [
    "tmdb_viz.groupby('certification')['budget_adj'].mean().sort_values(ascending = False)"
   ]
  },
  {
   "cell_type": "code",
   "execution_count": 46,
   "id": "101372b9",
   "metadata": {
    "scrolled": true
   },
   "outputs": [
    {
     "data": {
      "text/plain": [
       "certification\n",
       "PG       2.240096e+08\n",
       "G        2.147332e+08\n",
       "PG-13    1.963111e+08\n",
       "R        7.069939e+07\n",
       "Name: revenue_adj, dtype: float64"
      ]
     },
     "execution_count": 46,
     "metadata": {},
     "output_type": "execute_result"
    }
   ],
   "source": [
    "tmdb_viz.groupby('certification')['revenue_adj'].mean().sort_values(ascending = False)"
   ]
  },
  {
   "cell_type": "code",
   "execution_count": 47,
   "id": "45c83897",
   "metadata": {},
   "outputs": [
    {
     "data": {
      "image/png": "[encoded data removed]",
      "text/plain": [
       "<Figure size 720x720 with 2 Axes>"
      ]
     },
     "metadata": {
      "needs_background": "light"
     },
     "output_type": "display_data"
    }
   ],
   "source": [
    "# Import string formatter for labels\n",
    "from matplotlib.ticker import StrMethodFormatter\n",
    "\n",
    "# Attempt 1 at comparing budget/revene on rating\n",
    "fig, axes = plt.subplots(figsize=(10,10), nrows = 2, sharex = True)\n",
    "plt.suptitle('Movie Budget and Revenue by Rating\\n 2000 through 2021', \n",
    "             fontsize = 18, weight = 'bold', y = 1.06)\n",
    "sns.barplot(data = tmdb_viz, x = 'budget_adj', y = 'certification', \n",
    "            ci = None, color = \"red\", alpha = .8, ax = axes[0])\n",
    "axes[0].set_xlabel('Budget', fontsize=14, weight = 'semibold')\n",
    "axes[0].set_ylabel('Rating',  fontsize=14, weight = 'semibold')\n",
    "sns.barplot(data = tmdb_viz, x = 'revenue_adj', y = 'certification', \n",
    "            ci = None, color = \"#006400\", alpha = .8, ax = axes[1])\n",
    "axes[1].set_xlabel('Revenue', fontsize=14, weight = 'semibold')\n",
    "axes[1].set_ylabel('Rating',  fontsize=14, weight = 'semibold')\n",
    "[ax.grid(axis = 'x', alpha = .6) for ax in axes]\n",
    "[ax.set_axisbelow(True) for ax in axes]\n",
    "axes[1].xaxis.set_major_formatter(StrMethodFormatter('${x:,.0f}'))\n",
    "plt.xlim(0,140000000)\n",
    "plt.xticks(range(0, 141000000, 10000000),rotation = 30, ha = 'right')\n",
    "fig.tight_layout()"
   ]
  },
  {
   "cell_type": "code",
   "execution_count": 48,
   "id": "a53977ed",
   "metadata": {},
   "outputs": [
    {
     "data": {
      "image/png": "[encoded data removed]",
      "text/plain": [
       "<Figure size 720x432 with 1 Axes>"
      ]
     },
     "metadata": {
      "needs_background": "light"
     },
     "output_type": "display_data"
    }
   ],
   "source": [
    "# Attempt 2 at comparing budget/revene on rating\n",
    "palette ={\"budget_adj\": \"red\", \"revenue_adj\": \"#006400\", \"profit_adj\": 'blue'}\n",
    "\n",
    "fig, axes = plt.subplots(figsize=(10,6), ncols = 1, nrows = 1)\n",
    "sns.barplot(data = tmdb_viz.melt('certification', \n",
    "                                 value_vars = ['budget_adj', 'revenue_adj', 'profit_adj']),\n",
    "            x = 'value', y = 'certification', hue = 'variable', \n",
    "            palette = palette, alpha = .8, ci = None, \n",
    "            edgecolor = 'black', lw = '2', ax = axes)\n",
    "plt.title('Movie Budget and Revenue by Rating\\n 2000 through 2021', \n",
    "             fontsize = 18, weight = 'bold')\n",
    "plt.xlabel('Budget / Revenue in Dollars', fontsize=14, weight = 'semibold')\n",
    "plt.ylabel('MPAA Rating',  fontsize=14, weight = 'semibold')\n",
    "axes.grid(axis = 'x', alpha = .6, zorder = 0)\n",
    "axes.set_axisbelow(True)\n",
    "axes.xaxis.set_major_formatter(StrMethodFormatter('${x:,.0f}'))\n",
    "axes.legend(title = None, )\n",
    "plt.xlim(0,230000000)\n",
    "plt.xticks(range(0, 230001000, 20000000),rotation = 30, ha = 'right')\n",
    "fig.tight_layout();"
   ]
  },
  {
   "cell_type": "markdown",
   "id": "489065c2",
   "metadata": {},
   "source": [
    "### Viz: Relationship between Budget and Revenue"
   ]
  },
  {
   "cell_type": "code",
   "execution_count": 49,
   "id": "23a0e9ea",
   "metadata": {},
   "outputs": [
    {
     "data": {
      "image/png": "[encoded data removed]",
      "text/plain": [
       "<Figure size 720x720 with 1 Axes>"
      ]
     },
     "metadata": {
      "needs_background": "light"
     },
     "output_type": "display_data"
    }
   ],
   "source": [
    "fig, ax = plt.subplots(figsize = (10,10))\n",
    "sns.scatterplot(data = tmdb_viz, x = 'budget_adj', y = 'revenue_adj', hue = \"certification\", alpha = .6);\n",
    "sns.regplot(data=tmdb_viz[tmdb_viz['certification'] == 'G'], x = 'budget_adj', y = 'revenue_adj', \n",
    "            scatter_kws={'s':0}, ci=None,\n",
    "            line_kws={'color': '#1e81b0', 'lw' : 2, 'alpha' : .8})\n",
    "sns.regplot(data=tmdb_viz[tmdb_viz['certification'] == 'PG'], x = 'budget_adj', y = 'revenue_adj', \n",
    "            scatter_kws={'s':0}, ci=None,\n",
    "            line_kws={'color': \"orange\", 'lw' : 2, 'alpha' : .8})\n",
    "sns.regplot(data=tmdb_viz[tmdb_viz['certification'] == 'PG-13'], x = 'budget_adj', y = 'revenue_adj', \n",
    "            scatter_kws={'s':0}, ci=None,\n",
    "            line_kws={'color': \"green\", 'lw' : 2, 'alpha' : .7})\n",
    "sns.regplot(data=tmdb_viz[tmdb_viz['certification'] == 'R'], x = 'budget_adj', y = 'revenue_adj', \n",
    "            scatter_kws={'s':0}, ci=None,\n",
    "            line_kws={'color': \"red\", 'lw' : 2, 'alpha' : .7})\n",
    "# sns.regplot(data=tmdb_viz[tmdb_viz['certification'] == 'NR'], x = 'budget', y = 'revenue', \n",
    "#             scatter_kws={'s':0}, ci=None,\n",
    "#             line_kws={'color': \"purple\", 'lw' : 2, 'alpha' : .7})\n",
    "# sns.regplot(data=tmdb_viz[tmdb_viz['certification'] == 'NC-17'], x = 'budget', y = 'revenue', \n",
    "#             scatter_kws={'s':0}, ci=None,\n",
    "#             line_kws={'color': \"brown\", 'lw' : 2, 'alpha' : .7})\n",
    "plt.title('Relationship between Budget and Revenue\\n 2000 through 2001', \n",
    "             fontsize = 18, weight = 'bold')\n",
    "plt.xlabel('Budget', fontsize=14, weight = 'semibold')\n",
    "plt.ylabel('Revenue',  fontsize=14, weight = 'semibold')\n",
    "ax.xaxis.set_major_formatter(StrMethodFormatter('${x:,.0f}'))\n",
    "ax.yaxis.set_major_formatter(StrMethodFormatter('${x:,.0f}'))\n",
    "plt.xlim(0,140000000)\n",
    "plt.ylim(0,600000000)\n",
    "plt.grid(alpha = .5)\n",
    "plt.xticks(rotation = 30, ha = 'right')\n",
    "fig.tight_layout()"
   ]
  },
  {
   "cell_type": "markdown",
   "id": "27e63541",
   "metadata": {},
   "source": [
    "# Appendix\n",
    "Future graphics for further discovery."
   ]
  },
  {
   "cell_type": "code",
   "execution_count": 50,
   "id": "fba9377e",
   "metadata": {},
   "outputs": [],
   "source": [
    "tmdb_merged = pd.read_csv(f\"{FOLDER}tmdb_merged.csv.gz\")"
   ]
  },
  {
   "cell_type": "code",
   "execution_count": 51,
   "id": "ccf7af60",
   "metadata": {},
   "outputs": [
    {
     "data": {
      "text/plain": [
       "Index(['tconst', 'belongs_to_collection', 'production_companies',\n",
       "       'production_countries', 'status', 'certification', 'year', 'month',\n",
       "       'day', 'budget_adj', 'revenue_adj', 'profit_adj'],\n",
       "      dtype='object')"
      ]
     },
     "execution_count": 51,
     "metadata": {},
     "output_type": "execute_result"
    }
   ],
   "source": [
    "tmdb_merged.columns"
   ]
  },
  {
   "cell_type": "code",
   "execution_count": 52,
   "id": "971f0587",
   "metadata": {},
   "outputs": [],
   "source": [
    "# red_notice = tmdb_merged[tmdb_merged['imdb_id'] == 'tt7991608']\n",
    "# red_notice['revenue']"
   ]
  },
  {
   "cell_type": "code",
   "execution_count": 53,
   "id": "bdbb8b48",
   "metadata": {},
   "outputs": [
    {
     "data": {
      "text/html": [
       "<div>\n",
       "<style scoped>\n",
       "    .dataframe tbody tr th:only-of-type {\n",
       "        vertical-align: middle;\n",
       "    }\n",
       "\n",
       "    .dataframe tbody tr th {\n",
       "        vertical-align: top;\n",
       "    }\n",
       "\n",
       "    .dataframe thead th {\n",
       "        text-align: right;\n",
       "    }\n",
       "</style>\n",
       "<table border=\"1\" class=\"dataframe\">\n",
       "  <thead>\n",
       "    <tr style=\"text-align: right;\">\n",
       "      <th></th>\n",
       "      <th>tconst</th>\n",
       "      <th>belongs_to_collection</th>\n",
       "      <th>production_companies</th>\n",
       "      <th>production_countries</th>\n",
       "      <th>status</th>\n",
       "      <th>certification</th>\n",
       "      <th>year</th>\n",
       "      <th>month</th>\n",
       "      <th>day</th>\n",
       "      <th>budget_adj</th>\n",
       "      <th>revenue_adj</th>\n",
       "      <th>profit_adj</th>\n",
       "      <th>brett</th>\n",
       "    </tr>\n",
       "  </thead>\n",
       "  <tbody>\n",
       "    <tr>\n",
       "      <th>3</th>\n",
       "      <td>tt0118694</td>\n",
       "      <td>0</td>\n",
       "      <td>[{'id': 539, 'logo_path': None, 'name': 'Block...</td>\n",
       "      <td>[{'iso_3166_1': 'CN', 'name': 'China'}, {'iso_...</td>\n",
       "      <td>Released</td>\n",
       "      <td>PG</td>\n",
       "      <td>2000</td>\n",
       "      <td>9</td>\n",
       "      <td>29</td>\n",
       "      <td>2.360366e+05</td>\n",
       "      <td>2.022826e+07</td>\n",
       "      <td>1.999222e+07</td>\n",
       "      <td>85.699685</td>\n",
       "    </tr>\n",
       "    <tr>\n",
       "      <th>10</th>\n",
       "      <td>tt0120467</td>\n",
       "      <td>0</td>\n",
       "      <td>[{'id': 102045, 'logo_path': None, 'name': 'Ch...</td>\n",
       "      <td>[{'iso_3166_1': 'US', 'name': 'United States o...</td>\n",
       "      <td>Released</td>\n",
       "      <td>R</td>\n",
       "      <td>2002</td>\n",
       "      <td>4</td>\n",
       "      <td>26</td>\n",
       "      <td>1.807471e+05</td>\n",
       "      <td>2.244879e+04</td>\n",
       "      <td>-1.582983e+05</td>\n",
       "      <td>0.124200</td>\n",
       "    </tr>\n",
       "    <tr>\n",
       "      <th>12</th>\n",
       "      <td>tt0120630</td>\n",
       "      <td>1</td>\n",
       "      <td>[{'id': 521, 'logo_path': '/kP7t6RwGz2AvvTkvnI...</td>\n",
       "      <td>[{'iso_3166_1': 'GB', 'name': 'United Kingdom'...</td>\n",
       "      <td>Released</td>\n",
       "      <td>G</td>\n",
       "      <td>2000</td>\n",
       "      <td>6</td>\n",
       "      <td>21</td>\n",
       "      <td>7.081098e+07</td>\n",
       "      <td>3.537946e+08</td>\n",
       "      <td>2.829836e+08</td>\n",
       "      <td>4.996324</td>\n",
       "    </tr>\n",
       "    <tr>\n",
       "      <th>15</th>\n",
       "      <td>tt0120753</td>\n",
       "      <td>0</td>\n",
       "      <td>[{'id': 1490, 'logo_path': None, 'name': 'Kint...</td>\n",
       "      <td>[{'iso_3166_1': 'US', 'name': 'United States o...</td>\n",
       "      <td>Released</td>\n",
       "      <td>R</td>\n",
       "      <td>2000</td>\n",
       "      <td>2</td>\n",
       "      <td>9</td>\n",
       "      <td>1.258862e+07</td>\n",
       "      <td>1.667724e+05</td>\n",
       "      <td>-1.242185e+07</td>\n",
       "      <td>0.013248</td>\n",
       "    </tr>\n",
       "    <tr>\n",
       "      <th>16</th>\n",
       "      <td>tt0120755</td>\n",
       "      <td>1</td>\n",
       "      <td>[{'id': 4, 'logo_path': '/gz66EfNoYPqHTYI4q9UE...</td>\n",
       "      <td>[{'iso_3166_1': 'AU', 'name': 'Australia'}, {'...</td>\n",
       "      <td>Released</td>\n",
       "      <td>PG-13</td>\n",
       "      <td>2000</td>\n",
       "      <td>5</td>\n",
       "      <td>24</td>\n",
       "      <td>1.966972e+08</td>\n",
       "      <td>8.597839e+08</td>\n",
       "      <td>6.630867e+08</td>\n",
       "      <td>4.371105</td>\n",
       "    </tr>\n",
       "  </tbody>\n",
       "</table>\n",
       "</div>"
      ],
      "text/plain": [
       "       tconst  belongs_to_collection  \\\n",
       "3   tt0118694                      0   \n",
       "10  tt0120467                      0   \n",
       "12  tt0120630                      1   \n",
       "15  tt0120753                      0   \n",
       "16  tt0120755                      1   \n",
       "\n",
       "                                 production_companies  \\\n",
       "3   [{'id': 539, 'logo_path': None, 'name': 'Block...   \n",
       "10  [{'id': 102045, 'logo_path': None, 'name': 'Ch...   \n",
       "12  [{'id': 521, 'logo_path': '/kP7t6RwGz2AvvTkvnI...   \n",
       "15  [{'id': 1490, 'logo_path': None, 'name': 'Kint...   \n",
       "16  [{'id': 4, 'logo_path': '/gz66EfNoYPqHTYI4q9UE...   \n",
       "\n",
       "                                 production_countries    status certification  \\\n",
       "3   [{'iso_3166_1': 'CN', 'name': 'China'}, {'iso_...  Released            PG   \n",
       "10  [{'iso_3166_1': 'US', 'name': 'United States o...  Released             R   \n",
       "12  [{'iso_3166_1': 'GB', 'name': 'United Kingdom'...  Released             G   \n",
       "15  [{'iso_3166_1': 'US', 'name': 'United States o...  Released             R   \n",
       "16  [{'iso_3166_1': 'AU', 'name': 'Australia'}, {'...  Released         PG-13   \n",
       "\n",
       "    year  month  day    budget_adj   revenue_adj    profit_adj      brett  \n",
       "3   2000      9   29  2.360366e+05  2.022826e+07  1.999222e+07  85.699685  \n",
       "10  2002      4   26  1.807471e+05  2.244879e+04 -1.582983e+05   0.124200  \n",
       "12  2000      6   21  7.081098e+07  3.537946e+08  2.829836e+08   4.996324  \n",
       "15  2000      2    9  1.258862e+07  1.667724e+05 -1.242185e+07   0.013248  \n",
       "16  2000      5   24  1.966972e+08  8.597839e+08  6.630867e+08   4.371105  "
      ]
     },
     "execution_count": 53,
     "metadata": {},
     "output_type": "execute_result"
    }
   ],
   "source": [
    "tmdb_brett = tmdb_merged.copy()\n",
    "tmdb_brett = tmdb_brett[tmdb_brett['revenue_adj'] != 0]\n",
    "tmdb_brett = tmdb_brett[tmdb_brett['budget_adj'] != 0]\n",
    "\n",
    "nr = tmdb_brett['certification'] == 'NR'\n",
    "unrated = tmdb_brett['certification'] == 'Unrated'\n",
    "nc17 = tmdb_brett['certification'] == 'NC-17'\n",
    "\n",
    "tmdb_brett = tmdb_brett[~(nr | unrated | nc17)]\n",
    "tmdb_brett.dropna(subset= ['certification'], inplace = True)\n",
    "\n",
    "tmdb_brett['brett'] = tmdb_brett['revenue_adj']/tmdb_brett['budget_adj']\n",
    "tmdb_brett.head()"
   ]
  },
  {
   "cell_type": "code",
   "execution_count": 54,
   "id": "e4adc678",
   "metadata": {},
   "outputs": [],
   "source": [
    "red_notice = tmdb_brett[tmdb_brett['tconst'].str.contains('tt7991608')]"
   ]
  },
  {
   "cell_type": "code",
   "execution_count": 55,
   "id": "3db2815b",
   "metadata": {},
   "outputs": [
    {
     "ename": "KeyError",
     "evalue": "'vote_average'",
     "output_type": "error",
     "traceback": [
      "\u001b[1;31m---------------------------------------------------------------------------\u001b[0m",
      "\u001b[1;31mKeyError\u001b[0m                                  Traceback (most recent call last)",
      "\u001b[1;32mG:\\Program Files (x86)\\anaconda3\\envs\\dojo-env\\lib\\site-packages\\pandas\\core\\indexes\\base.py\u001b[0m in \u001b[0;36mget_loc\u001b[1;34m(self, key, method, tolerance)\u001b[0m\n\u001b[0;32m   3360\u001b[0m             \u001b[1;32mtry\u001b[0m\u001b[1;33m:\u001b[0m\u001b[1;33m\u001b[0m\u001b[1;33m\u001b[0m\u001b[0m\n\u001b[1;32m-> 3361\u001b[1;33m                 \u001b[1;32mreturn\u001b[0m \u001b[0mself\u001b[0m\u001b[1;33m.\u001b[0m\u001b[0m_engine\u001b[0m\u001b[1;33m.\u001b[0m\u001b[0mget_loc\u001b[0m\u001b[1;33m(\u001b[0m\u001b[0mcasted_key\u001b[0m\u001b[1;33m)\u001b[0m\u001b[1;33m\u001b[0m\u001b[1;33m\u001b[0m\u001b[0m\n\u001b[0m\u001b[0;32m   3362\u001b[0m             \u001b[1;32mexcept\u001b[0m \u001b[0mKeyError\u001b[0m \u001b[1;32mas\u001b[0m \u001b[0merr\u001b[0m\u001b[1;33m:\u001b[0m\u001b[1;33m\u001b[0m\u001b[1;33m\u001b[0m\u001b[0m\n",
      "\u001b[1;32mG:\\Program Files (x86)\\anaconda3\\envs\\dojo-env\\lib\\site-packages\\pandas\\_libs\\index.pyx\u001b[0m in \u001b[0;36mpandas._libs.index.IndexEngine.get_loc\u001b[1;34m()\u001b[0m\n",
      "\u001b[1;32mG:\\Program Files (x86)\\anaconda3\\envs\\dojo-env\\lib\\site-packages\\pandas\\_libs\\index.pyx\u001b[0m in \u001b[0;36mpandas._libs.index.IndexEngine.get_loc\u001b[1;34m()\u001b[0m\n",
      "\u001b[1;32mpandas\\_libs\\hashtable_class_helper.pxi\u001b[0m in \u001b[0;36mpandas._libs.hashtable.PyObjectHashTable.get_item\u001b[1;34m()\u001b[0m\n",
      "\u001b[1;32mpandas\\_libs\\hashtable_class_helper.pxi\u001b[0m in \u001b[0;36mpandas._libs.hashtable.PyObjectHashTable.get_item\u001b[1;34m()\u001b[0m\n",
      "\u001b[1;31mKeyError\u001b[0m: 'vote_average'",
      "\nThe above exception was the direct cause of the following exception:\n",
      "\u001b[1;31mKeyError\u001b[0m                                  Traceback (most recent call last)",
      "\u001b[1;32m~\\AppData\\Local\\Temp\\ipykernel_12604\\1157976621.py\u001b[0m in \u001b[0;36m<module>\u001b[1;34m\u001b[0m\n\u001b[0;32m      1\u001b[0m \u001b[0mfig\u001b[0m\u001b[1;33m,\u001b[0m \u001b[0max\u001b[0m \u001b[1;33m=\u001b[0m \u001b[0mplt\u001b[0m\u001b[1;33m.\u001b[0m\u001b[0msubplots\u001b[0m\u001b[1;33m(\u001b[0m\u001b[0mfigsize\u001b[0m \u001b[1;33m=\u001b[0m \u001b[1;33m(\u001b[0m\u001b[1;36m15\u001b[0m\u001b[1;33m,\u001b[0m\u001b[1;36m8\u001b[0m\u001b[1;33m)\u001b[0m\u001b[1;33m)\u001b[0m\u001b[1;33m\u001b[0m\u001b[1;33m\u001b[0m\u001b[0m\n\u001b[1;32m----> 2\u001b[1;33m sns.scatterplot(data = tmdb_brett, x = tmdb_brett['brett'], y = tmdb_merged['vote_average'],\n\u001b[0m\u001b[0;32m      3\u001b[0m                hue = 'certification', alpha = .7)\n\u001b[0;32m      4\u001b[0m sns.scatterplot(data = tmdb_brett, x = red_notice['brett'], y = red_notice['vote_average'],\n\u001b[0;32m      5\u001b[0m                color = 'k', marker = 'o')\n",
      "\u001b[1;32mG:\\Program Files (x86)\\anaconda3\\envs\\dojo-env\\lib\\site-packages\\pandas\\core\\frame.py\u001b[0m in \u001b[0;36m__getitem__\u001b[1;34m(self, key)\u001b[0m\n\u001b[0;32m   3456\u001b[0m             \u001b[1;32mif\u001b[0m \u001b[0mself\u001b[0m\u001b[1;33m.\u001b[0m\u001b[0mcolumns\u001b[0m\u001b[1;33m.\u001b[0m\u001b[0mnlevels\u001b[0m \u001b[1;33m>\u001b[0m \u001b[1;36m1\u001b[0m\u001b[1;33m:\u001b[0m\u001b[1;33m\u001b[0m\u001b[1;33m\u001b[0m\u001b[0m\n\u001b[0;32m   3457\u001b[0m                 \u001b[1;32mreturn\u001b[0m \u001b[0mself\u001b[0m\u001b[1;33m.\u001b[0m\u001b[0m_getitem_multilevel\u001b[0m\u001b[1;33m(\u001b[0m\u001b[0mkey\u001b[0m\u001b[1;33m)\u001b[0m\u001b[1;33m\u001b[0m\u001b[1;33m\u001b[0m\u001b[0m\n\u001b[1;32m-> 3458\u001b[1;33m             \u001b[0mindexer\u001b[0m \u001b[1;33m=\u001b[0m \u001b[0mself\u001b[0m\u001b[1;33m.\u001b[0m\u001b[0mcolumns\u001b[0m\u001b[1;33m.\u001b[0m\u001b[0mget_loc\u001b[0m\u001b[1;33m(\u001b[0m\u001b[0mkey\u001b[0m\u001b[1;33m)\u001b[0m\u001b[1;33m\u001b[0m\u001b[1;33m\u001b[0m\u001b[0m\n\u001b[0m\u001b[0;32m   3459\u001b[0m             \u001b[1;32mif\u001b[0m \u001b[0mis_integer\u001b[0m\u001b[1;33m(\u001b[0m\u001b[0mindexer\u001b[0m\u001b[1;33m)\u001b[0m\u001b[1;33m:\u001b[0m\u001b[1;33m\u001b[0m\u001b[1;33m\u001b[0m\u001b[0m\n\u001b[0;32m   3460\u001b[0m                 \u001b[0mindexer\u001b[0m \u001b[1;33m=\u001b[0m \u001b[1;33m[\u001b[0m\u001b[0mindexer\u001b[0m\u001b[1;33m]\u001b[0m\u001b[1;33m\u001b[0m\u001b[1;33m\u001b[0m\u001b[0m\n",
      "\u001b[1;32mG:\\Program Files (x86)\\anaconda3\\envs\\dojo-env\\lib\\site-packages\\pandas\\core\\indexes\\base.py\u001b[0m in \u001b[0;36mget_loc\u001b[1;34m(self, key, method, tolerance)\u001b[0m\n\u001b[0;32m   3361\u001b[0m                 \u001b[1;32mreturn\u001b[0m \u001b[0mself\u001b[0m\u001b[1;33m.\u001b[0m\u001b[0m_engine\u001b[0m\u001b[1;33m.\u001b[0m\u001b[0mget_loc\u001b[0m\u001b[1;33m(\u001b[0m\u001b[0mcasted_key\u001b[0m\u001b[1;33m)\u001b[0m\u001b[1;33m\u001b[0m\u001b[1;33m\u001b[0m\u001b[0m\n\u001b[0;32m   3362\u001b[0m             \u001b[1;32mexcept\u001b[0m \u001b[0mKeyError\u001b[0m \u001b[1;32mas\u001b[0m \u001b[0merr\u001b[0m\u001b[1;33m:\u001b[0m\u001b[1;33m\u001b[0m\u001b[1;33m\u001b[0m\u001b[0m\n\u001b[1;32m-> 3363\u001b[1;33m                 \u001b[1;32mraise\u001b[0m \u001b[0mKeyError\u001b[0m\u001b[1;33m(\u001b[0m\u001b[0mkey\u001b[0m\u001b[1;33m)\u001b[0m \u001b[1;32mfrom\u001b[0m \u001b[0merr\u001b[0m\u001b[1;33m\u001b[0m\u001b[1;33m\u001b[0m\u001b[0m\n\u001b[0m\u001b[0;32m   3364\u001b[0m \u001b[1;33m\u001b[0m\u001b[0m\n\u001b[0;32m   3365\u001b[0m         \u001b[1;32mif\u001b[0m \u001b[0mis_scalar\u001b[0m\u001b[1;33m(\u001b[0m\u001b[0mkey\u001b[0m\u001b[1;33m)\u001b[0m \u001b[1;32mand\u001b[0m \u001b[0misna\u001b[0m\u001b[1;33m(\u001b[0m\u001b[0mkey\u001b[0m\u001b[1;33m)\u001b[0m \u001b[1;32mand\u001b[0m \u001b[1;32mnot\u001b[0m \u001b[0mself\u001b[0m\u001b[1;33m.\u001b[0m\u001b[0mhasnans\u001b[0m\u001b[1;33m:\u001b[0m\u001b[1;33m\u001b[0m\u001b[1;33m\u001b[0m\u001b[0m\n",
      "\u001b[1;31mKeyError\u001b[0m: 'vote_average'"
     ]
    },
    {
     "data": {
      "image/png": "[encoded data removed]",
      "text/plain": [
       "<Figure size 1080x576 with 1 Axes>"
      ]
     },
     "metadata": {
      "needs_background": "light"
     },
     "output_type": "display_data"
    }
   ],
   "source": [
    "fig, ax = plt.subplots(figsize = (15,8))\n",
    "sns.scatterplot(data = tmdb_brett, x = tmdb_brett['brett'], y = tmdb_merged['vote_average'],\n",
    "               hue = 'certification', alpha = .7)\n",
    "sns.scatterplot(data = tmdb_brett, x = red_notice['brett'], y = red_notice['vote_average'],\n",
    "               color = 'k', marker = 'o')\n",
    "plt.xlim(0, 20)\n",
    "plt.ylim(3,9)\n",
    "plt.grid(alpha = .3)\n",
    "plt.ylabel('Popularity', size = 18, weight = 'semibold')\n",
    "plt.xlabel('Revenue to Budget Ratio',size = 18, weight = 'semibold')\n",
    "plt.annotate(\"Red Notice\", xy = (red_notice['brett'], red_notice['vote_average']),\n",
    "         xytext=(red_notice['brett']+.5, red_notice['vote_average']-.4), \n",
    "             arrowprops=dict(arrowstyle='->'), size = 14, weight = 'semibold');"
   ]
  },
  {
   "cell_type": "code",
   "execution_count": null,
   "id": "d9563515",
   "metadata": {
    "scrolled": true
   },
   "outputs": [],
   "source": [
    "drop_list=['adult', 'runtime', 'genres', 'release_date', 'backdrop_path', 'homepage', \n",
    "           'tagline', 'poster_path', 'original_title', 'id', 'video', 'overview', \n",
    "           'original_language', 'spoken_languages']\n",
    "\n",
    "tmdb_brett.drop(columns = drop_list, inplace = True)\n",
    "\n",
    "\n",
    "tmdb_brett.sort_values(by = ['brett'], ascending = False)\n",
    "# .sort_values(tmdb_brett['brett'], ascending = False)"
   ]
  }
 ],
 "metadata": {
  "kernelspec": {
   "display_name": "Python (dojo-env)",
   "language": "python",
   "name": "dojo-env"
  },
  "language_info": {
   "codemirror_mode": {
    "name": "ipython",
    "version": 3
   },
   "file_extension": ".py",
   "mimetype": "text/x-python",
   "name": "python",
   "nbconvert_exporter": "python",
   "pygments_lexer": "ipython3",
   "version": "3.7.12"
  },
  "toc": {
   "base_numbering": 1,
   "nav_menu": {},
   "number_sections": false,
   "sideBar": true,
   "skip_h1_title": false,
   "title_cell": "Table of Contents",
   "title_sidebar": "Contents",
   "toc_cell": false,
   "toc_position": {
    "height": "calc(100% - 180px)",
    "left": "10px",
    "top": "150px",
    "width": "337.391px"
   },
   "toc_section_display": true,
   "toc_window_display": true
  }
 },
 "nbformat": 4,
 "nbformat_minor": 5
}
