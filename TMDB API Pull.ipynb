{
 "cells": [
  {
   "cell_type": "markdown",
   "id": "f90aa9b5",
   "metadata": {},
   "source": [
    "# TMDB API PULL\n",
    "Name: Michael McCann <br>\n",
    "Data: 29 APR 2022"
   ]
  },
  {
   "cell_type": "markdown",
   "id": "33f2478e",
   "metadata": {},
   "source": [
    "## Imports"
   ]
  },
  {
   "cell_type": "code",
   "execution_count": 1,
   "id": "57088ff8",
   "metadata": {},
   "outputs": [],
   "source": [
    "import pandas as pd\n",
    "import numpy as np\n",
    "import json, os, math, time\n",
    "\n",
    "import tmdbsimple as tmdb\n",
    "from tqdm.notebook import tqdm_notebook"
   ]
  },
  {
   "cell_type": "markdown",
   "id": "1ec3a17f",
   "metadata": {},
   "source": [
    "## Get API Key, Instantiate API"
   ]
  },
  {
   "cell_type": "code",
   "execution_count": 2,
   "id": "54e395a5",
   "metadata": {},
   "outputs": [],
   "source": [
    "# Get filepath for keys\n",
    "file = \"../../.secret/tmdb_api.json\"\n",
    "\n",
    "# load keys as login\n",
    "with open(file, 'r') as f:\n",
    "    login = json.load(f)\n",
    "\n",
    "# Instantiate API\n",
    "tmdb.API_KEY = login['api-key']"
   ]
  },
  {
   "cell_type": "markdown",
   "id": "cfcead06",
   "metadata": {},
   "source": [
    "## Functions"
   ]
  },
  {
   "cell_type": "markdown",
   "id": "259ec857",
   "metadata": {},
   "source": [
    "### Movie Ratings Function"
   ]
  },
  {
   "cell_type": "code",
   "execution_count": 26,
   "id": "b2b36970",
   "metadata": {},
   "outputs": [],
   "source": [
    "def movie_rating(movie_id):\n",
    "    movie = tmdb.Movies(movie_id)\n",
    "    info = movie.info()\n",
    "    releases = movie.releases()\n",
    "        \n",
    "    for c in releases['countries']:\n",
    "        if c['iso_3166_1'] == 'US':\n",
    "            info['certification'] = c['certification']\n",
    "    return info"
   ]
  },
  {
   "cell_type": "markdown",
   "id": "70271d0c",
   "metadata": {},
   "source": [
    "### Write JSON function"
   ]
  },
  {
   "cell_type": "code",
   "execution_count": 33,
   "id": "21238d31",
   "metadata": {},
   "outputs": [],
   "source": [
    "# def write_json(new_data, filename):\n",
    "#     with open(filename, 'r+') as f:\n",
    "#         file_data = json.load(f)\n",
    "        \n",
    "#         if (type(new_data) == list) & (type(file_data) == list):\n",
    "#             file_data.extend(new_data)\n",
    "#         else:\n",
    "#             file_data.append(new_data)\n",
    "#         file.seek(0)\n",
    "        \n",
    "#         json.dump(file_data, f)\n",
    "        \n",
    "def write_json(new_data, filename): \n",
    "    with open(filename,'r+') as file:\n",
    "    # First we load existing data into a dict.\n",
    "        file_data = json.load(file)\n",
    "        ## Choose extend or append\n",
    "        if (type(new_data) == list) & (type(file_data) == list):\n",
    "            file_data.extend(new_data)\n",
    "        else:\n",
    "             file_data.append(new_data)\n",
    "        # Sets file's current position at offset.\n",
    "        file.seek(0)\n",
    "        # convert back to json.\n",
    "        json.dump(file_data, file)"
   ]
  },
  {
   "cell_type": "markdown",
   "id": "7c163cd7",
   "metadata": {},
   "source": [
    "## Set Variables"
   ]
  },
  {
   "cell_type": "code",
   "execution_count": 34,
   "id": "6b69fde5",
   "metadata": {
    "scrolled": true
   },
   "outputs": [],
   "source": [
    "# Created or Confirm folder for data\n",
    "FOLDER = \"Data/\"\n",
    "os.makedirs(FOLDER, exist_ok=True)\n",
    "os.listdir(FOLDER)\n",
    "\n",
    "# Read in title basics from IMDB\n",
    "basics = pd.read_csv('data/title_basics.csv.gz')\n",
    "\n",
    "# Set Years we are interested in\n",
    "YEARS_TO_GET = [2000, 2001]"
   ]
  },
  {
   "cell_type": "markdown",
   "id": "422b14cb",
   "metadata": {},
   "source": [
    "## API Call"
   ]
  },
  {
   "cell_type": "code",
   "execution_count": 35,
   "id": "8b07dade",
   "metadata": {},
   "outputs": [
    {
     "data": {
      "application/vnd.jupyter.widget-view+json": {
       "model_id": "c3e38868e23c4f99ab2a0195c5e2da4e",
       "version_major": 2,
       "version_minor": 0
      },
      "text/plain": [
       "YEARS:   0%|          | 0/2 [00:00<?, ?it/s]"
      ]
     },
     "metadata": {},
     "output_type": "display_data"
    },
    {
     "data": {
      "application/vnd.jupyter.widget-view+json": {
       "model_id": "99a478f382f14371b3b71624b28d30a1",
       "version_major": 2,
       "version_minor": 0
      },
      "text/plain": [
       "Movies from 2000:   0%|          | 0/1397 [00:00<?, ?it/s]"
      ]
     },
     "metadata": {},
     "output_type": "display_data"
    },
    {
     "data": {
      "application/vnd.jupyter.widget-view+json": {
       "model_id": "ce176a563258483bbe5a49aa60af75cf",
       "version_major": 2,
       "version_minor": 0
      },
      "text/plain": [
       "Movies from 2001:   0%|          | 0/1517 [00:00<?, ?it/s]"
      ]
     },
     "metadata": {},
     "output_type": "display_data"
    }
   ],
   "source": [
    "for YEAR in tqdm_notebook(YEARS_TO_GET, desc='YEARS', position = 0):    \n",
    "    JSON_FILE = f'{FOLDER}tmdb_api_requests_{YEAR}.json'\n",
    "    \n",
    "    # Check for JSON_FILE\n",
    "    file_exists = os.path.isfile(JSON_FILE)\n",
    "\n",
    "    # If it does not exist create a blank one for use\n",
    "    if file_exists == False:\n",
    "        with open(JSON_FILE, 'w') as f:\n",
    "            json.dump([{'imdb_id':0}],f)\n",
    "    \n",
    "    # get movie ids ('tconst') from our IMDB basics dataframe\n",
    "    df = basics.loc[basics['startYear'] == YEAR].copy()\n",
    "    movie_ids = df['tconst'].copy()\n",
    "    \n",
    "    # Check for previous pulls \n",
    "    previous_df = pd.read_json(JSON_FILE)\n",
    "    movie_ids_to_get = movie_ids[~movie_ids.isin(previous_df['imdb_id'])]\n",
    "    \n",
    "    for movie_id in tqdm_notebook(movie_ids_to_get,\n",
    "                             desc=f'Movies from {YEAR}',\n",
    "                             position = 1,\n",
    "                             leave = True):\n",
    "            try:\n",
    "                temp = movie_rating(movie_id)\n",
    "                write_json(temp, JSON_FILE)\n",
    "                time.sleep(0.02)\n",
    "\n",
    "            except Exception as e:\n",
    "                    continue\n",
    "    \n",
    "    # Save the results out to a zipped csv                \n",
    "    final_year_df = pd.read_json(JSON_FILE)\n",
    "    final_year_df.to_csv(f\"{FOLDER}final_tmdb_data_{YEAR}.csv.gz\", compression=\"gzip\", index=False)"
   ]
  }
 ],
 "metadata": {
  "kernelspec": {
   "display_name": "Python (dojo-env)",
   "language": "python",
   "name": "dojo-env"
  },
  "language_info": {
   "codemirror_mode": {
    "name": "ipython",
    "version": 3
   },
   "file_extension": ".py",
   "mimetype": "text/x-python",
   "name": "python",
   "nbconvert_exporter": "python",
   "pygments_lexer": "ipython3",
   "version": "3.7.12"
  },
  "toc": {
   "base_numbering": 1,
   "nav_menu": {},
   "number_sections": false,
   "sideBar": true,
   "skip_h1_title": false,
   "title_cell": "Table of Contents",
   "title_sidebar": "Contents",
   "toc_cell": false,
   "toc_position": {},
   "toc_section_display": true,
   "toc_window_display": true
  }
 },
 "nbformat": 4,
 "nbformat_minor": 5
}
